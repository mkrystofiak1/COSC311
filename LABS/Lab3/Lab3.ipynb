{
 "cells": [
  {
   "cell_type": "markdown",
   "id": "2062b170",
   "metadata": {},
   "source": [
    "### Author: Mitchell Krystofiak\n",
    "### Class: COSC 311 - Lab3\n",
    "### Date: October 29, 2021\n",
    "### Description: Iris Flower Measurements, CIs, SEs, Means, Scatters, Bar Plots"
   ]
  },
  {
   "cell_type": "code",
   "execution_count": 1,
   "id": "b418be7e",
   "metadata": {},
   "outputs": [],
   "source": [
    "import pandas as pd\n",
    "import numpy as np\n",
    "import matplotlib.pyplot as plt\n",
    "from collections import Counter\n",
    "import stats\n",
    "import math"
   ]
  },
  {
   "cell_type": "code",
   "execution_count": 2,
   "id": "f03f58a5",
   "metadata": {},
   "outputs": [
    {
     "data": {
      "text/html": [
       "<div>\n",
       "<style scoped>\n",
       "    .dataframe tbody tr th:only-of-type {\n",
       "        vertical-align: middle;\n",
       "    }\n",
       "\n",
       "    .dataframe tbody tr th {\n",
       "        vertical-align: top;\n",
       "    }\n",
       "\n",
       "    .dataframe thead th {\n",
       "        text-align: right;\n",
       "    }\n",
       "</style>\n",
       "<table border=\"1\" class=\"dataframe\">\n",
       "  <thead>\n",
       "    <tr style=\"text-align: right;\">\n",
       "      <th></th>\n",
       "      <th>Sepal Length</th>\n",
       "      <th>Sepal Width</th>\n",
       "      <th>Petal Length</th>\n",
       "      <th>Petal Width</th>\n",
       "      <th>Class</th>\n",
       "    </tr>\n",
       "  </thead>\n",
       "  <tbody>\n",
       "    <tr>\n",
       "      <th>0</th>\n",
       "      <td>5.1</td>\n",
       "      <td>3.5</td>\n",
       "      <td>1.4</td>\n",
       "      <td>0.2</td>\n",
       "      <td>Iris-setosa</td>\n",
       "    </tr>\n",
       "    <tr>\n",
       "      <th>1</th>\n",
       "      <td>4.9</td>\n",
       "      <td>3.0</td>\n",
       "      <td>1.4</td>\n",
       "      <td>0.2</td>\n",
       "      <td>Iris-setosa</td>\n",
       "    </tr>\n",
       "    <tr>\n",
       "      <th>2</th>\n",
       "      <td>4.7</td>\n",
       "      <td>3.2</td>\n",
       "      <td>1.3</td>\n",
       "      <td>0.2</td>\n",
       "      <td>Iris-setosa</td>\n",
       "    </tr>\n",
       "    <tr>\n",
       "      <th>3</th>\n",
       "      <td>4.6</td>\n",
       "      <td>3.1</td>\n",
       "      <td>1.5</td>\n",
       "      <td>0.2</td>\n",
       "      <td>Iris-setosa</td>\n",
       "    </tr>\n",
       "    <tr>\n",
       "      <th>4</th>\n",
       "      <td>5.0</td>\n",
       "      <td>3.6</td>\n",
       "      <td>1.4</td>\n",
       "      <td>0.2</td>\n",
       "      <td>Iris-setosa</td>\n",
       "    </tr>\n",
       "    <tr>\n",
       "      <th>...</th>\n",
       "      <td>...</td>\n",
       "      <td>...</td>\n",
       "      <td>...</td>\n",
       "      <td>...</td>\n",
       "      <td>...</td>\n",
       "    </tr>\n",
       "    <tr>\n",
       "      <th>145</th>\n",
       "      <td>6.7</td>\n",
       "      <td>3.0</td>\n",
       "      <td>5.2</td>\n",
       "      <td>2.3</td>\n",
       "      <td>Iris-virginica</td>\n",
       "    </tr>\n",
       "    <tr>\n",
       "      <th>146</th>\n",
       "      <td>6.3</td>\n",
       "      <td>2.5</td>\n",
       "      <td>5.0</td>\n",
       "      <td>1.9</td>\n",
       "      <td>Iris-virginica</td>\n",
       "    </tr>\n",
       "    <tr>\n",
       "      <th>147</th>\n",
       "      <td>6.5</td>\n",
       "      <td>3.0</td>\n",
       "      <td>5.2</td>\n",
       "      <td>2.0</td>\n",
       "      <td>Iris-virginica</td>\n",
       "    </tr>\n",
       "    <tr>\n",
       "      <th>148</th>\n",
       "      <td>6.2</td>\n",
       "      <td>3.4</td>\n",
       "      <td>5.4</td>\n",
       "      <td>2.3</td>\n",
       "      <td>Iris-virginica</td>\n",
       "    </tr>\n",
       "    <tr>\n",
       "      <th>149</th>\n",
       "      <td>5.9</td>\n",
       "      <td>3.0</td>\n",
       "      <td>5.1</td>\n",
       "      <td>1.8</td>\n",
       "      <td>Iris-virginica</td>\n",
       "    </tr>\n",
       "  </tbody>\n",
       "</table>\n",
       "<p>150 rows × 5 columns</p>\n",
       "</div>"
      ],
      "text/plain": [
       "     Sepal Length  Sepal Width  Petal Length  Petal Width           Class\n",
       "0             5.1          3.5           1.4          0.2     Iris-setosa\n",
       "1             4.9          3.0           1.4          0.2     Iris-setosa\n",
       "2             4.7          3.2           1.3          0.2     Iris-setosa\n",
       "3             4.6          3.1           1.5          0.2     Iris-setosa\n",
       "4             5.0          3.6           1.4          0.2     Iris-setosa\n",
       "..            ...          ...           ...          ...             ...\n",
       "145           6.7          3.0           5.2          2.3  Iris-virginica\n",
       "146           6.3          2.5           5.0          1.9  Iris-virginica\n",
       "147           6.5          3.0           5.2          2.0  Iris-virginica\n",
       "148           6.2          3.4           5.4          2.3  Iris-virginica\n",
       "149           5.9          3.0           5.1          1.8  Iris-virginica\n",
       "\n",
       "[150 rows x 5 columns]"
      ]
     },
     "execution_count": 2,
     "metadata": {},
     "output_type": "execute_result"
    }
   ],
   "source": [
    "#Read in iris.data\n",
    "\n",
    "iris = pd.read_csv('./iris.data',header=None, names=['Sepal Length','Sepal Width','Petal Length','Petal Width','Class'])\n",
    "iris"
   ]
  },
  {
   "cell_type": "code",
   "execution_count": 3,
   "id": "2c6acc38",
   "metadata": {},
   "outputs": [
    {
     "data": {
      "image/png": "[encoded data removed]",
      "text/plain": [
       "<Figure size 432x288 with 1 Axes>"
      ]
     },
     "metadata": {
      "needs_background": "light"
     },
     "output_type": "display_data"
    },
    {
     "data": {
      "image/png": "[encoded data removed]",
      "text/plain": [
       "<Figure size 432x288 with 1 Axes>"
      ]
     },
     "metadata": {
      "needs_background": "light"
     },
     "output_type": "display_data"
    },
    {
     "data": {
      "image/png": "[encoded data removed]",
      "text/plain": [
       "<Figure size 432x288 with 1 Axes>"
      ]
     },
     "metadata": {
      "needs_background": "light"
     },
     "output_type": "display_data"
    },
    {
     "data": {
      "image/png": "[encoded data removed]",
      "text/plain": [
       "<Figure size 432x288 with 1 Axes>"
      ]
     },
     "metadata": {
      "needs_background": "light"
     },
     "output_type": "display_data"
    },
    {
     "data": {
      "image/png": "[encoded data removed]",
      "text/plain": [
       "<Figure size 432x288 with 1 Axes>"
      ]
     },
     "metadata": {
      "needs_background": "light"
     },
     "output_type": "display_data"
    },
    {
     "data": {
      "image/png": "[encoded data removed]",
      "text/plain": [
       "<Figure size 432x288 with 1 Axes>"
      ]
     },
     "metadata": {
      "needs_background": "light"
     },
     "output_type": "display_data"
    },
    {
     "data": {
      "text/plain": [
       "<Figure size 432x288 with 0 Axes>"
      ]
     },
     "metadata": {},
     "output_type": "display_data"
    }
   ],
   "source": [
    "#Iris Data pairs scattered by class\n",
    "\n",
    "setosa = iris[iris['Class'] == 'Iris-setosa']\n",
    "virginica = iris[iris['Class'] == 'Iris-virginica']\n",
    "versicolor = iris[iris['Class'] == 'Iris-versicolor']\n",
    "\n",
    "for i in range(4):\n",
    "    plt.clf()\n",
    "    for j in range(i+1,4):\n",
    "        plt.scatter(x=setosa[setosa.columns[i]], y=setosa[setosa.columns[j]], color='red', marker='*')\n",
    "        plt.scatter(x=virginica[virginica.columns[i]], y=virginica[virginica.columns[j]], color='blue', marker='+')\n",
    "        plt.scatter(x=versicolor[versicolor.columns[i]], y=versicolor[versicolor.columns[j]], color='orange', marker='.')\n",
    "        plt.legend(['Setosa','Virginica','Versicolor'])\n",
    "        plt.xlabel(setosa.columns[i])\n",
    "        plt.ylabel(setosa.columns[j])\n",
    "        plt.title(f'{setosa.columns[i]} Relationship to {setosa.columns[j]}')\n",
    "        plt.xticks(np.arange(0,8.5,0.5))\n",
    "        plt.show()"
   ]
  },
  {
   "cell_type": "code",
   "execution_count": 4,
   "id": "eb075a87",
   "metadata": {},
   "outputs": [
    {
     "data": {
      "text/plain": [
       "[{'Data': 'Sepal Length to Sepal Width', 'Corr_Co': -0.10936924995064937},\n",
       " {'Data': 'Sepal Length to Petal Length', 'Corr_Co': 0.8717541573048718},\n",
       " {'Data': 'Sepal Length to Petal Width', 'Corr_Co': 0.8179536333691636},\n",
       " {'Data': 'Sepal Width to Petal Length', 'Corr_Co': -0.42051609640115445},\n",
       " {'Data': 'Sepal Width to Petal Width', 'Corr_Co': -0.35654408961380535},\n",
       " {'Data': 'Petal Length to Petal Width', 'Corr_Co': 0.9627570970509663}]"
      ]
     },
     "execution_count": 4,
     "metadata": {},
     "output_type": "execute_result"
    }
   ],
   "source": [
    "#Calculate Correlation Coefficients without class considerations\n",
    "\n",
    "corr_co = []\n",
    "for i in range(4):\n",
    "    for j in range(i+1,4):\n",
    "        corr_co.append({\"Data\":f\"{iris.columns[i]} to {iris.columns[j]}\", \"Corr_Co\":iris[iris.columns[i]].corr(iris[iris.columns[j]])})\n",
    "        \n",
    "corr_co"
   ]
  },
  {
   "cell_type": "code",
   "execution_count": 5,
   "id": "0db635ab",
   "metadata": {},
   "outputs": [
    {
     "data": {
      "text/plain": [
       "[{'Setosa Data': 'Sepal Length to Sepal Width',\n",
       "  'Correlation_Co': 0.7467803732639267},\n",
       " {'Setosa Data': 'Sepal Length to Petal Length',\n",
       "  'Correlation_Co': 0.2638740929186868},\n",
       " {'Setosa Data': 'Sepal Length to Petal Width',\n",
       "  'Correlation_Co': 0.27909157499959697},\n",
       " {'Setosa Data': 'Sepal Width to Petal Length',\n",
       "  'Correlation_Co': 0.17669462869680694},\n",
       " {'Setosa Data': 'Sepal Width to Petal Width',\n",
       "  'Correlation_Co': 0.27997288851690466},\n",
       " {'Setosa Data': 'Petal Length to Petal Width',\n",
       "  'Correlation_Co': 0.30630821115803575}]"
      ]
     },
     "execution_count": 5,
     "metadata": {},
     "output_type": "execute_result"
    }
   ],
   "source": [
    "#Correlation coefficients with respect to class\n",
    "\n",
    "set_corr_co = []\n",
    "vir_corr_co = []\n",
    "ver_corr_co = []\n",
    "\n",
    "for i in range(4):\n",
    "    for j in range(i+1,4):\n",
    "        set_corr_co.append({\"Setosa Data\": f\"{setosa.columns[i]} to {setosa.columns[j]}\",\n",
    "                            \"Correlation_Co\": setosa[setosa.columns[i]].corr(setosa[setosa.columns[j]])})\n",
    "        vir_corr_co.append({\"Virginica Data\": f\"{virginica.columns[i]} to {virginica.columns[j]}\",\n",
    "                            \"Correlation_Co\": virginica[virginica.columns[i]].corr(virginica[virginica.columns[j]])})\n",
    "        ver_corr_co.append({\"Versicolor Data\": f\"{versicolor.columns[i]} to {versicolor.columns[j]}\",\n",
    "                            \"Correlation_Co\": versicolor[versicolor.columns[i]].corr(versicolor[versicolor.columns[j]])})\n",
    "set_corr_co"
   ]
  },
  {
   "cell_type": "code",
   "execution_count": 6,
   "id": "664717db",
   "metadata": {},
   "outputs": [
    {
     "data": {
      "text/plain": [
       "[{'Virginica Data': 'Sepal Length to Sepal Width',\n",
       "  'Correlation_Co': 0.4572278163941129},\n",
       " {'Virginica Data': 'Sepal Length to Petal Length',\n",
       "  'Correlation_Co': 0.8642247329355764},\n",
       " {'Virginica Data': 'Sepal Length to Petal Width',\n",
       "  'Correlation_Co': 0.28110770915731925},\n",
       " {'Virginica Data': 'Sepal Width to Petal Length',\n",
       "  'Correlation_Co': 0.4010445773427854},\n",
       " {'Virginica Data': 'Sepal Width to Petal Width',\n",
       "  'Correlation_Co': 0.5377280262661887},\n",
       " {'Virginica Data': 'Petal Length to Petal Width',\n",
       "  'Correlation_Co': 0.3221082159003183}]"
      ]
     },
     "execution_count": 6,
     "metadata": {},
     "output_type": "execute_result"
    }
   ],
   "source": [
    "vir_corr_co"
   ]
  },
  {
   "cell_type": "code",
   "execution_count": 7,
   "id": "59e3e0b9",
   "metadata": {},
   "outputs": [
    {
     "data": {
      "text/plain": [
       "[{'Versicolor Data': 'Sepal Length to Sepal Width',\n",
       "  'Correlation_Co': 0.5259107172828243},\n",
       " {'Versicolor Data': 'Sepal Length to Petal Length',\n",
       "  'Correlation_Co': 0.754048958592016},\n",
       " {'Versicolor Data': 'Sepal Length to Petal Width',\n",
       "  'Correlation_Co': 0.5464610715986299},\n",
       " {'Versicolor Data': 'Sepal Width to Petal Length',\n",
       "  'Correlation_Co': 0.560522091692982},\n",
       " {'Versicolor Data': 'Sepal Width to Petal Width',\n",
       "  'Correlation_Co': 0.6639987200241115},\n",
       " {'Versicolor Data': 'Petal Length to Petal Width',\n",
       "  'Correlation_Co': 0.7866680885228169}]"
      ]
     },
     "execution_count": 7,
     "metadata": {},
     "output_type": "execute_result"
    }
   ],
   "source": [
    "ver_corr_co"
   ]
  },
  {
   "cell_type": "code",
   "execution_count": 8,
   "id": "a8f1b76f",
   "metadata": {},
   "outputs": [],
   "source": [
    "#Computer mean of the 4 numerical categories with 95% confidence intervals (no class)\n",
    "#Some notes: mean x_bar, SE = std(x_bar) = sqrt(var(x_bar)) = sigma_X/sqrt(N)\n",
    "# Confidence Intervals: [x_bar - 1.96*SE, x_bar + 1.96*SE]\n",
    "\n",
    "#Grab SE and xbar\n",
    "\n",
    "xbar = []\n",
    "SE = []\n",
    "\n",
    "for i in range(4):\n",
    "    xbar.append({\"Data\":iris.columns[i],\"mean\":np.mean(iris[iris.columns[i]])})\n",
    "    SE.append({\"Data\":iris.columns[i],\"SE\": np.std(iris[iris.columns[i]])/np.sqrt(len(iris[iris.columns[i]]))})"
   ]
  },
  {
   "cell_type": "code",
   "execution_count": 9,
   "id": "75a7cc81",
   "metadata": {},
   "outputs": [
    {
     "data": {
      "text/plain": [
       "[{'Data': 'Sepal Length', 'mean': 5.843333333333335},\n",
       " {'Data': 'Sepal Width', 'mean': 3.0540000000000007},\n",
       " {'Data': 'Petal Length', 'mean': 3.7586666666666693},\n",
       " {'Data': 'Petal Width', 'mean': 1.1986666666666672}]"
      ]
     },
     "execution_count": 9,
     "metadata": {},
     "output_type": "execute_result"
    }
   ],
   "source": [
    "xbar"
   ]
  },
  {
   "cell_type": "code",
   "execution_count": 10,
   "id": "b766b1e1",
   "metadata": {},
   "outputs": [
    {
     "data": {
      "text/plain": [
       "[{'Data': 'Sepal Length', 'SE': 0.06738556829778031},\n",
       " {'Data': 'Sepal Width', 'SE': 0.03528462050872086},\n",
       " {'Data': 'Petal Length', 'SE': 0.1435833065712233},\n",
       " {'Data': 'Petal Width', 'SE': 0.0621037602487727}]"
      ]
     },
     "execution_count": 10,
     "metadata": {},
     "output_type": "execute_result"
    }
   ],
   "source": [
    "SE"
   ]
  },
  {
   "cell_type": "code",
   "execution_count": 11,
   "id": "b24db71d",
   "metadata": {},
   "outputs": [
    {
     "data": {
      "text/plain": [
       "[{'Data': 'Sepal Length', 'CI': '(5.711257619469685 , 5.975409047196984)'},\n",
       " {'Data': 'Sepal Width', 'CI': '(2.984842143802908 , 3.1231578561970936)'},\n",
       " {'Data': 'Petal Length', 'CI': '(3.4772433857870717 , 4.040089947546267)'},\n",
       " {'Data': 'Petal Width', 'CI': '(1.0769432965790728 , 1.3203900367542616)'}]"
      ]
     },
     "execution_count": 11,
     "metadata": {},
     "output_type": "execute_result"
    }
   ],
   "source": [
    "# build confidence intervals\n",
    "\n",
    "CI = []\n",
    "\n",
    "for i in range(4):\n",
    "    CI.append({\"Data\":iris.columns[i], \n",
    "               \"CI\": (f\"({xbar[i]['mean'] - 1.96*SE[i]['SE']} , {xbar[i]['mean'] + 1.96*SE[i]['SE']})\")})\n",
    "CI"
   ]
  },
  {
   "cell_type": "code",
   "execution_count": 12,
   "id": "4e5ae126",
   "metadata": {},
   "outputs": [],
   "source": [
    "#Find xbar and SE for each class.\n",
    "\n",
    "set_xbar = []\n",
    "vir_xbar = []\n",
    "ver_xbar = []\n",
    "set_SE = []\n",
    "vir_SE = []\n",
    "ver_SE = []\n",
    "\n",
    "for i in range(4):\n",
    "    set_xbar.append(np.mean(setosa[setosa.columns[i]]))\n",
    "    set_SE.append(np.std(setosa[setosa.columns[i]])/np.sqrt(len(setosa[setosa.columns[i]])))\n",
    "    vir_xbar.append(np.mean(virginica[virginica.columns[i]]))\n",
    "    vir_SE.append(np.std(virginica[virginica.columns[i]])/np.sqrt(len(virginica[virginica.columns[i]])))\n",
    "    ver_xbar.append(np.mean(versicolor[versicolor.columns[i]]))\n",
    "    ver_SE.append(np.std(versicolor[versicolor.columns[i]])/np.sqrt(len(versicolor[versicolor.columns[i]])))\n"
   ]
  },
  {
   "cell_type": "code",
   "execution_count": 13,
   "id": "5b83e82c",
   "metadata": {},
   "outputs": [
    {
     "data": {
      "text/html": [
       "<div>\n",
       "<style scoped>\n",
       "    .dataframe tbody tr th:only-of-type {\n",
       "        vertical-align: middle;\n",
       "    }\n",
       "\n",
       "    .dataframe tbody tr th {\n",
       "        vertical-align: top;\n",
       "    }\n",
       "\n",
       "    .dataframe thead th {\n",
       "        text-align: right;\n",
       "    }\n",
       "</style>\n",
       "<table border=\"1\" class=\"dataframe\">\n",
       "  <thead>\n",
       "    <tr style=\"text-align: right;\">\n",
       "      <th></th>\n",
       "      <th>Sepal Length Mean</th>\n",
       "      <th>Sepal Width Mean</th>\n",
       "      <th>Petal Length Mean</th>\n",
       "      <th>Petal Width Mean</th>\n",
       "    </tr>\n",
       "  </thead>\n",
       "  <tbody>\n",
       "    <tr>\n",
       "      <th>Setosa</th>\n",
       "      <td>5.006</td>\n",
       "      <td>3.418</td>\n",
       "      <td>1.464</td>\n",
       "      <td>0.244</td>\n",
       "    </tr>\n",
       "    <tr>\n",
       "      <th>Virginica</th>\n",
       "      <td>6.588</td>\n",
       "      <td>2.974</td>\n",
       "      <td>5.552</td>\n",
       "      <td>2.026</td>\n",
       "    </tr>\n",
       "    <tr>\n",
       "      <th>Versicolor</th>\n",
       "      <td>5.936</td>\n",
       "      <td>2.770</td>\n",
       "      <td>4.260</td>\n",
       "      <td>1.326</td>\n",
       "    </tr>\n",
       "  </tbody>\n",
       "</table>\n",
       "</div>"
      ],
      "text/plain": [
       "            Sepal Length Mean  Sepal Width Mean  Petal Length Mean  \\\n",
       "Setosa                  5.006             3.418              1.464   \n",
       "Virginica               6.588             2.974              5.552   \n",
       "Versicolor              5.936             2.770              4.260   \n",
       "\n",
       "            Petal Width Mean  \n",
       "Setosa                 0.244  \n",
       "Virginica              2.026  \n",
       "Versicolor             1.326  "
      ]
     },
     "execution_count": 13,
     "metadata": {},
     "output_type": "execute_result"
    }
   ],
   "source": [
    "d = [set_xbar, vir_xbar, ver_xbar]\n",
    "Mean_Data = pd.DataFrame(d, index=['Setosa','Virginica','Versicolor'], \n",
    "             columns=['Sepal Length Mean','Sepal Width Mean','Petal Length Mean','Petal Width Mean'])\n",
    "Mean_Data"
   ]
  },
  {
   "cell_type": "code",
   "execution_count": 14,
   "id": "f9af6925",
   "metadata": {},
   "outputs": [
    {
     "data": {
      "text/html": [
       "<div>\n",
       "<style scoped>\n",
       "    .dataframe tbody tr th:only-of-type {\n",
       "        vertical-align: middle;\n",
       "    }\n",
       "\n",
       "    .dataframe tbody tr th {\n",
       "        vertical-align: top;\n",
       "    }\n",
       "\n",
       "    .dataframe thead th {\n",
       "        text-align: right;\n",
       "    }\n",
       "</style>\n",
       "<table border=\"1\" class=\"dataframe\">\n",
       "  <thead>\n",
       "    <tr style=\"text-align: right;\">\n",
       "      <th></th>\n",
       "      <th>Sepal Length SE</th>\n",
       "      <th>Sepal Width SE</th>\n",
       "      <th>Petal Length SE</th>\n",
       "      <th>Petal Width SE</th>\n",
       "    </tr>\n",
       "  </thead>\n",
       "  <tbody>\n",
       "    <tr>\n",
       "      <th>Setosa</th>\n",
       "      <td>0.049349</td>\n",
       "      <td>0.053343</td>\n",
       "      <td>0.024292</td>\n",
       "      <td>0.015009</td>\n",
       "    </tr>\n",
       "    <tr>\n",
       "      <th>Virginica</th>\n",
       "      <td>0.089023</td>\n",
       "      <td>0.045150</td>\n",
       "      <td>0.077265</td>\n",
       "      <td>0.038451</td>\n",
       "    </tr>\n",
       "    <tr>\n",
       "      <th>Versicolor</th>\n",
       "      <td>0.072264</td>\n",
       "      <td>0.043932</td>\n",
       "      <td>0.065788</td>\n",
       "      <td>0.027685</td>\n",
       "    </tr>\n",
       "  </tbody>\n",
       "</table>\n",
       "</div>"
      ],
      "text/plain": [
       "            Sepal Length SE  Sepal Width SE  Petal Length SE  Petal Width SE\n",
       "Setosa             0.049349        0.053343         0.024292        0.015009\n",
       "Virginica          0.089023        0.045150         0.077265        0.038451\n",
       "Versicolor         0.072264        0.043932         0.065788        0.027685"
      ]
     },
     "execution_count": 14,
     "metadata": {},
     "output_type": "execute_result"
    }
   ],
   "source": [
    "d = [set_SE, vir_SE, ver_SE]\n",
    "SE_Data = pd.DataFrame(d, index=['Setosa','Virginica','Versicolor'], \n",
    "             columns=['Sepal Length SE','Sepal Width SE','Petal Length SE','Petal Width SE'])\n",
    "SE_Data"
   ]
  },
  {
   "cell_type": "code",
   "execution_count": 15,
   "id": "47bb5982",
   "metadata": {},
   "outputs": [],
   "source": [
    "# build confidence intervals for each class measurement\n",
    "\n",
    "set_CI = []\n",
    "vir_CI = []\n",
    "ver_CI = []\n",
    "\n",
    "for i in range(4):\n",
    "    set_CI.append((set_xbar[i] - 1.96*set_SE[i], set_xbar[i] + 1.96*set_SE[i]))\n",
    "    vir_CI.append((vir_xbar[i] - 1.96*vir_SE[i], vir_xbar[i] + 1.96*vir_SE[i]))\n",
    "    ver_CI.append((ver_xbar[i] - 1.96*ver_SE[i], ver_xbar[i] + 1.96*ver_SE[i]))"
   ]
  },
  {
   "cell_type": "code",
   "execution_count": 16,
   "id": "bc2c77c9",
   "metadata": {},
   "outputs": [],
   "source": [
    "d = [set_CI, vir_CI, ver_CI]\n",
    "CI_Data = pd.DataFrame(d, index=['Setosa','Virginica','Versicolor'], \n",
    "             columns=['Sepal Length CI','Sepal Width CI', 'Petal Length CI', 'Petal Width CI'])"
   ]
  },
  {
   "cell_type": "code",
   "execution_count": 17,
   "id": "83c80ded",
   "metadata": {},
   "outputs": [
    {
     "data": {
      "text/plain": [
       "<matplotlib.legend.Legend at 0x289d7664d30>"
      ]
     },
     "execution_count": 17,
     "metadata": {},
     "output_type": "execute_result"
    },
    {
     "data": {
      "image/png": "[encoded data removed]",
      "text/plain": [
       "<Figure size 432x288 with 1 Axes>"
      ]
     },
     "metadata": {
      "needs_background": "light"
     },
     "output_type": "display_data"
    }
   ],
   "source": [
    "labels = ['Sepal Length','Sepal Width','Petal Length','Petal Width']\n",
    "x = np.arange(4)\n",
    "width = 0.2\n",
    "plt.bar(x-0.2, Mean_Data.iloc[0].values, width, yerr=SE_Data.iloc[0].values, color='red')\n",
    "plt.bar(x, Mean_Data.iloc[1].values, width, yerr=SE_Data.iloc[1].values, color='blue')\n",
    "plt.bar(x+0.2, Mean_Data.iloc[2].values, width, yerr=SE_Data.iloc[2].values, color='green')\n",
    "plt.xticks(x, labels)\n",
    "plt.title(\"Means of Petal Dimensions by Class with SE\")\n",
    "plt.xlabel(\"Petal Measurements\")\n",
    "plt.ylabel(\"Mean\")\n",
    "plt.legend(['Setosa','Virginica','Versicolor'])"
   ]
  },
  {
   "cell_type": "markdown",
   "id": "91e377a1",
   "metadata": {},
   "source": [
    "### Hypothesis: The Mean of Setosa Petal Length is equivalent to the Mean of Versicolor Petal Width\n",
    "- Null Hypothesis: H0: Setosa_PL_mu  = Versicolor_PW_mu\n",
    "- Alternate Hypot: HA: Setosa_PL_mu != Versicolor_PW_mu"
   ]
  },
  {
   "cell_type": "code",
   "execution_count": 18,
   "id": "b5278e9e",
   "metadata": {},
   "outputs": [],
   "source": [
    "m1 = Mean_Data['Petal Length Mean']['Setosa']"
   ]
  },
  {
   "cell_type": "code",
   "execution_count": 19,
   "id": "1325f1a0",
   "metadata": {},
   "outputs": [],
   "source": [
    "m2 = Mean_Data['Petal Width Mean']['Versicolor']"
   ]
  },
  {
   "cell_type": "code",
   "execution_count": 20,
   "id": "fc2d8aa4",
   "metadata": {},
   "outputs": [],
   "source": [
    "v1 = np.var(setosa['Petal Length'])"
   ]
  },
  {
   "cell_type": "code",
   "execution_count": 21,
   "id": "db4e8a9a",
   "metadata": {},
   "outputs": [],
   "source": [
    "v2 = np.var(versicolor['Petal Width'])"
   ]
  },
  {
   "cell_type": "code",
   "execution_count": 22,
   "id": "162c5b9e",
   "metadata": {},
   "outputs": [],
   "source": [
    "def ab_statistic(u1, v1, u2, v2):\n",
    "    return (u1 - u2)/math.sqrt(v1**2 + v2**2)"
   ]
  },
  {
   "cell_type": "code",
   "execution_count": 23,
   "id": "570781e6",
   "metadata": {},
   "outputs": [],
   "source": [
    "z = ab_statistic(m1,v1,m2,v2)"
   ]
  },
  {
   "cell_type": "code",
   "execution_count": 28,
   "id": "0e5350ce",
   "metadata": {},
   "outputs": [
    {
     "data": {
      "text/plain": [
       "0.004327081279067446"
      ]
     },
     "execution_count": 28,
     "metadata": {},
     "output_type": "execute_result"
    }
   ],
   "source": [
    "p_value = stats.two_sided_p_value(z, 0, 1) # mean = 0, std = 1\n",
    "p_value"
   ]
  },
  {
   "cell_type": "markdown",
   "id": "3db2204f",
   "metadata": {},
   "source": [
    "#### Since our p-value = 0.004 < 0.05, we reject the Null Hyptothesis --> the Mean of Setosa Petal Lengths are NOT equal to the Mean of Versicolor Petal Widths."
   ]
  },
  {
   "cell_type": "code",
   "execution_count": 90,
   "id": "ea8e657f",
   "metadata": {},
   "outputs": [
    {
     "name": "stdout",
     "output_type": "stream",
     "text": [
      "(array([ 1,  1,  2,  7, 12, 14,  7,  4,  0,  2], dtype=int64), array([1.  , 1.09, 1.18, 1.27, 1.36, 1.45, 1.54, 1.63, 1.72, 1.81, 1.9 ]))\n"
     ]
    },
    {
     "data": {
      "text/plain": [
       "[<matplotlib.lines.Line2D at 0x289db3165e0>]"
      ]
     },
     "execution_count": 90,
     "metadata": {},
     "output_type": "execute_result"
    },
    {
     "data": {
      "image/png": "[encoded data removed]",
      "text/plain": [
       "<Figure size 432x288 with 1 Axes>"
      ]
     },
     "metadata": {
      "needs_background": "light"
     },
     "output_type": "display_data"
    }
   ],
   "source": [
    "hist = np.histogram(setosa['Petal Length'], bins=10)\n",
    "print(hist)\n",
    "plt.plot(hist[1][:-1], hist[0])"
   ]
  },
  {
   "cell_type": "code",
   "execution_count": 98,
   "id": "afb6ba47",
   "metadata": {},
   "outputs": [
    {
     "data": {
      "text/plain": [
       "<BarContainer object of 10 artists>"
      ]
     },
     "execution_count": 98,
     "metadata": {},
     "output_type": "execute_result"
    },
    {
     "data": {
      "image/png": "[encoded data removed]",
      "text/plain": [
       "<Figure size 432x288 with 1 Axes>"
      ]
     },
     "metadata": {
      "needs_background": "light"
     },
     "output_type": "display_data"
    }
   ],
   "source": [
    "# plt.bar([x for x in counts.keys()], [v /setosa['Petal Length'].count() for v in counts.values()])\n",
    "ys = hist[0]/setosa['Petal Length'].count()\n",
    "xs = np.arange(1,2,0.1)\n",
    "plt.plot(xs, [stats.normal_pdf(x,np.mean(xs),np.std(xs)) for x in xs])\n",
    "plt.bar(xs, ys)"
   ]
  },
  {
   "cell_type": "code",
   "execution_count": 100,
   "id": "cd8bb31c",
   "metadata": {},
   "outputs": [
    {
     "data": {
      "text/plain": [
       "<BarContainer object of 10 artists>"
      ]
     },
     "execution_count": 100,
     "metadata": {},
     "output_type": "execute_result"
    },
    {
     "data": {
      "image/png": "[encoded data removed]",
      "text/plain": [
       "<Figure size 432x288 with 1 Axes>"
      ]
     },
     "metadata": {
      "needs_background": "light"
     },
     "output_type": "display_data"
    }
   ],
   "source": [
    "hist = np.histogram(versicolor['Petal Width'], bins=10)\n",
    "ys = hist[0]/versicolor['Petal Width'].count()\n",
    "xs = np.arange(1,2,0.1)\n",
    "plt.plot(xs, [stats.normal_pdf(x,np.mean(xs),np.std(xs)) for x in xs])\n",
    "plt.bar(xs,ys)"
   ]
  },
  {
   "cell_type": "markdown",
   "id": "9ee82f6e",
   "metadata": {},
   "source": [
    "Judging by the histrograms, we are getting a semi normal distribution so yeah. This is wack. Happy halloween! Gauss Jordan time."
   ]
  },
  {
   "cell_type": "code",
   "execution_count": null,
   "id": "ef76f8ef",
   "metadata": {},
   "outputs": [],
   "source": []
  }
 ],
 "metadata": {
  "kernelspec": {
   "display_name": "Python 3",
   "language": "python",
   "name": "python3"
  },
  "language_info": {
   "codemirror_mode": {
    "name": "ipython",
    "version": 3
   },
   "file_extension": ".py",
   "mimetype": "text/x-python",
   "name": "python",
   "nbconvert_exporter": "python",
   "pygments_lexer": "ipython3",
   "version": "3.8.8"
  }
 },
 "nbformat": 4,
 "nbformat_minor": 5
}
