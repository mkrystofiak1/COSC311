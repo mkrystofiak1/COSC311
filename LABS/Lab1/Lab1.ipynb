{
 "cells": [
  {
   "cell_type": "code",
   "execution_count": 1,
   "id": "02976ece",
   "metadata": {},
   "outputs": [
    {
     "data": {
      "text/plain": [
       "[{'id': 0, 'name': 'Katy Perry'},\n",
       " {'id': 1, 'name': 'Smash Mouth'},\n",
       " {'id': 2, 'name': 'Aerosmith'},\n",
       " {'id': 3, 'name': 'Miley Cyrus'},\n",
       " {'id': 4, 'name': 'Eminem'},\n",
       " {'id': 5, 'name': 'Queen'},\n",
       " {'id': 6, 'name': 'John Legend'},\n",
       " {'id': 7, 'name': 'Three Doors Down'},\n",
       " {'id': 8, 'name': 'Guns N Roses'},\n",
       " {'id': 9, 'name': 'First to Eleven'}]"
      ]
     },
     "execution_count": 1,
     "metadata": {},
     "output_type": "execute_result"
    }
   ],
   "source": [
    "musician_names = ['Katy Perry','Smash Mouth', 'Aerosmith',\n",
    "                  'Miley Cyrus', 'Eminem', 'Queen',\n",
    "                  'John Legend', 'Three Doors Down', 'Guns N Roses',\n",
    "                  'First to Eleven'\n",
    "                 ]\n",
    "musicians = [{\"id\":i, \"name\":n} for (i,n) in enumerate(musician_names)]\n",
    "musicians"
   ]
  },
  {
   "cell_type": "code",
   "execution_count": 2,
   "id": "3f897038",
   "metadata": {},
   "outputs": [
    {
     "data": {
      "text/plain": [
       "[{'id': 0, 'name': 'All of Me'},\n",
       " {'id': 1, 'name': 'Allstar'},\n",
       " {'id': 2, 'name': 'Bohemian Rhapsody'},\n",
       " {'id': 3, 'name': 'Perfect'},\n",
       " {'id': 4, 'name': 'Believer'},\n",
       " {'id': 5, 'name': 'Living on a Prayer'},\n",
       " {'id': 6, 'name': 'Jingle Bells'},\n",
       " {'id': 7, 'name': 'Lose Yourself'},\n",
       " {'id': 8, 'name': 'Mockingbird'},\n",
       " {'id': 9, 'name': 'Sweet Child O Mine'}]"
      ]
     },
     "execution_count": 2,
     "metadata": {},
     "output_type": "execute_result"
    }
   ],
   "source": [
    "song_names = ['All of Me','Allstar', 'Bohemian Rhapsody',\n",
    "              'Perfect', 'Believer', 'Living on a Prayer',\n",
    "              'Jingle Bells', 'Lose Yourself', 'Mockingbird',\n",
    "              'Sweet Child O Mine'\n",
    "            ]\n",
    "songs = [{\"id\":i,\"name\":n} for (i,n) in enumerate(song_names)]\n",
    "songs"
   ]
  },
  {
   "cell_type": "code",
   "execution_count": 3,
   "id": "1f31515a",
   "metadata": {},
   "outputs": [],
   "source": [
    "# This is saying for (i,n) musician['id']=i sang songs['id']=n\n",
    "# Ex. (0,0) means musicians[0] = Katy Perry sang songs['0'] = All of Me\n",
    "musician_covers = [\n",
    "    (0, 0), (0, 1), (1, 1), (1,2), (1,3), (2, 4), (3, 5), (3, 6),\n",
    "    (4, 4), (4, 7), (5, 9), (6, 8), (6,9), (7, 0), (7,1), (8, 2),\n",
    "    (8, 6), (9, 9)\n",
    "]"
   ]
  },
  {
   "cell_type": "code",
   "execution_count": 4,
   "id": "393062d2",
   "metadata": {},
   "outputs": [],
   "source": [
    "def find_artist_id(a_name):\n",
    "    for i in range(len(musicians)):\n",
    "        if musicians[i]['name'] == a_name:\n",
    "            return musicians[i]['id']"
   ]
  },
  {
   "cell_type": "code",
   "execution_count": 5,
   "id": "b481f952",
   "metadata": {},
   "outputs": [],
   "source": [
    "def artist_name(id):\n",
    "    #assuming musicians are global\n",
    "    #takes in an id as an argument\n",
    "    for artist in musicians:\n",
    "        if artist['id'] == id:\n",
    "            return artist['name']\n"
   ]
  },
  {
   "cell_type": "code",
   "execution_count": 6,
   "id": "3fab0825",
   "metadata": {},
   "outputs": [],
   "source": [
    "def song_name(id):\n",
    "    #assuming songs are global\n",
    "    #takes in an id as an argument\n",
    "    for song in songs:\n",
    "        if song['id'] == id:\n",
    "            return song['name']"
   ]
  },
  {
   "cell_type": "code",
   "execution_count": 7,
   "id": "b0e4fc26",
   "metadata": {},
   "outputs": [],
   "source": [
    "def who_covered(song_name):\n",
    "    #takes in a song name as an argument\n",
    "    #and returns the artists who covered it\n",
    "    song_id = None\n",
    "    for i in range(len(songs)): #from i to number of songs\n",
    "        if songs[i]['name'] == song_name: #if songs[i]'s name equals input\n",
    "            song_id = songs[i]['id'] #then we found the id and record it\n",
    "            break\n",
    "    \n",
    "    #make a list of id's if the song id's match a[0]=artist, a[1] = song\n",
    "    \n",
    "    artists_ids = [a[0] for a in musician_covers if a[1] == song_id]\n",
    "    \n",
    "    return [artist_name(id) for id in artists_ids]"
   ]
  },
  {
   "cell_type": "code",
   "execution_count": 8,
   "id": "ddf1bb3a",
   "metadata": {},
   "outputs": [],
   "source": [
    "def covered_songs(artist_name):\n",
    "    #takes in an artist name as an argument\n",
    "    #and returns the songs covered  by that artist\n",
    "    artist_id = find_artist_id(artist_name)\n",
    "    \n",
    "    song_ids = [a[1] for a in musician_covers if a[0] == artist_id]\n",
    "    return [song_name(id) for id in song_ids]"
   ]
  },
  {
   "cell_type": "code",
   "execution_count": 9,
   "id": "f3fff37e",
   "metadata": {},
   "outputs": [],
   "source": [
    "#returns lists of artists that sang the same songs as a_name\n",
    "#shared_songs1('First to Eleven') should return ['Queen','John Legend']\n",
    "def shared_songs(a_name):\n",
    "    artist_id = find_artist_id(a_name)\n",
    "    \n",
    "    songs_covered = [a[1] for a in musician_covers if a[0] == artist_id]\n",
    "    \n",
    "    songs_shared_ids = []\n",
    "    for i in range(len(musician_covers)):\n",
    "        for j in range(len(songs_covered)):\n",
    "            if musician_covers[i][1] == songs_covered[j] and songs_shared_ids.count(musician_covers[i][1]) == 0:\n",
    "                songs_shared_ids.append(musician_covers[i][1])\n",
    "    \n",
    "    return [song_name(id) for id in songs_shared_ids]"
   ]
  },
  {
   "cell_type": "code",
   "execution_count": 10,
   "id": "c6ca61ad",
   "metadata": {},
   "outputs": [],
   "source": [
    "def song_popularity():\n",
    "    song_count = []\n",
    "    for i in range(len(songs)):\n",
    "        song_count.append(0);\n",
    "    \n",
    "    song_names = []\n",
    "    for i in range(len(songs)):\n",
    "        song_names.append(song_name(i))\n",
    "\n",
    "    for i in range(len(musician_covers)):\n",
    "        for j in range(len(songs)):\n",
    "            if musician_covers[i][1] == songs[j]['id']:\n",
    "                song_count[j]+=1\n",
    "    \n",
    "    s = {song_names[i]: song_count[i] for i in range(len(song_names))} \n",
    "    \n",
    "    return sorted(s.items(), key=lambda x: x[1], reverse=True)"
   ]
  },
  {
   "cell_type": "code",
   "execution_count": 11,
   "id": "2d1b0b4a",
   "metadata": {},
   "outputs": [],
   "source": [
    "keywords = [\n",
    "    (0, \"pop\"), (0, \"female lead\"), (1, \"rock\"), (1, \"male lead\"),\n",
    "    (2, \"guitar\"), (2, \"male lead\"), (2, \"original\"), (3, \"quiet\"),\n",
    "    (3, \"female lead\"), (4, \"guitar\"), (4, \"rock\"), (5, \"female lead\"),\n",
    "    (5, \"pop\"), (6,\"folk\"), (6, \"loud\"), (7, \"original\"), (7, \"male lead\"),\n",
    "    (7, \"loud\"), (8, \"quiet\"), (8, \"guitar\"), (8, \"male lead\"), (8, \"female lead\"),\n",
    "    (9, \"rock\"), (9, \"blues\")\n",
    "]"
   ]
  },
  {
   "cell_type": "code",
   "execution_count": 12,
   "id": "1c864a61",
   "metadata": {},
   "outputs": [],
   "source": [
    "#Steps: \n",
    "# 1. get the id of the given artist\n",
    "# 2. find their keywords (into a single list), target_keywords\n",
    "# 3. look at every other artist, iterate their keywords, counting how many are in target_keywords\n",
    "\n",
    "\n",
    "\n",
    "def similar_artists(a_name):\n",
    "    #gets artist id, prob should make this into a function\n",
    "    artist_id = find_artist_id(a_name)\n",
    "    #print(artist_id)\n",
    "    \n",
    "    #put keywords associated with artist in list\n",
    "    associated_keywords = []\n",
    "    for i in range(len(keywords)):\n",
    "        if keywords[i][0] == musicians[artist_id]['id'] and associated_keywords.count(keywords[i][1]) == 0:\n",
    "            associated_keywords.append(keywords[i][1])\n",
    "            \n",
    "    #def get_artist_keywords(artist_id):\n",
    "    #    return [ t[1] for t in artists_keywords if t[0] == artist_id]\n",
    "            \n",
    "    #print(associated_keywords)\n",
    "        \n",
    "    \n",
    "    #need to count the times the associated keywords of other artists match the input artist\n",
    "    keyword_count = []\n",
    "    for i in range(len(musicians)):\n",
    "        keyword_count.append(0)\n",
    "        \n",
    "    #counts = {artsit['id']: 0 for artist in artists if artist['id'] != artist_id}\n",
    "    #for artist in counts:\n",
    "    #    test_keywords = get_artist_keywords(artists)\n",
    "    #    for test_keyword in test_keywords:\n",
    "    #        print(f\"testing to see if artist {artist} keyword {test_keyword} is in target_keywords\")\n",
    "    #        if test_keyword in artist_keywords:\n",
    "    #            counts[artist] += 1\n",
    "    #\n",
    "    # print({\n",
    "    #     [t['name'] for t in artists if t['id'] == counter][0]: counts[counter]\n",
    "    #     for counter in counts\n",
    "    #})\n",
    "    \n",
    "    for j in range(len(keyword_count)):\n",
    "        for i in range(len(keywords)):\n",
    "            if keywords[i][0] == j: # j is musician id implicity\n",
    "                for k in range(len(associated_keywords)):\n",
    "                    if keywords[i][1] == associated_keywords[k]:\n",
    "                        #print(f\"artist {j} has keyword {keywords[i][1]}\")\n",
    "                        keyword_count[j] += 1\n",
    "    \n",
    "    #print(keyword_count)\n",
    "    \n",
    "    #this manuever should generalize the program for id's not starting at 0 and in order\n",
    "    # as long as I append them in the order they appear on the dictionary\n",
    "    artist_ids = []\n",
    "    for i in range(len(musicians)):\n",
    "        artist_ids.append(musicians[i]['id'])\n",
    "    \n",
    "    #remove the id that belongs to the input artist (preliminary requirement)\n",
    "    index = artist_ids.index(artist_id)\n",
    "    artist_ids.pop(index)\n",
    "    keyword_count.pop(index)\n",
    "    #print(f\"keyword_count = {keyword_count} and artist_ids = {artist_ids}\")\n",
    "    \n",
    "    while len(keyword_count) > 3:\n",
    "        index =  keyword_count.index(min(keyword_count))\n",
    "        keyword_count.pop(index)\n",
    "        #print(f\"popping the index {index}\")\n",
    "        artist_ids.pop(index)\n",
    "        #print(f\"keyword_count = {keyword_count}\")\n",
    "        #print(f\"artist_ids = {artist_ids}\")\n",
    "        \n",
    "    #now, the artist_ids and keyword_counts should be matched (index wise)\n",
    "    #and should leave the highest counts of keywords and those id's\n",
    "    #Note: There is definitely an easier way to do this, gotta love brute force\n",
    "    \n",
    "    return [artist_name(id) for id in artist_ids]"
   ]
  },
  {
   "cell_type": "markdown",
   "id": "9bbb7df2",
   "metadata": {},
   "source": [
    "# Final Testing Stage\n"
   ]
  },
  {
   "cell_type": "code",
   "execution_count": 13,
   "id": "90266d59",
   "metadata": {},
   "outputs": [
    {
     "data": {
      "text/plain": [
       "[{'id': 0, 'name': 'Katy Perry'},\n",
       " {'id': 1, 'name': 'Smash Mouth'},\n",
       " {'id': 2, 'name': 'Aerosmith'},\n",
       " {'id': 3, 'name': 'Miley Cyrus'},\n",
       " {'id': 4, 'name': 'Eminem'},\n",
       " {'id': 5, 'name': 'Queen'},\n",
       " {'id': 6, 'name': 'John Legend'},\n",
       " {'id': 7, 'name': 'Three Doors Down'},\n",
       " {'id': 8, 'name': 'Guns N Roses'},\n",
       " {'id': 9, 'name': 'First to Eleven'}]"
      ]
     },
     "execution_count": 13,
     "metadata": {},
     "output_type": "execute_result"
    }
   ],
   "source": [
    "#dictionary of musicians\n",
    "musicians"
   ]
  },
  {
   "cell_type": "code",
   "execution_count": 14,
   "id": "99f0bf47",
   "metadata": {},
   "outputs": [
    {
     "data": {
      "text/plain": [
       "[{'id': 0, 'name': 'All of Me'},\n",
       " {'id': 1, 'name': 'Allstar'},\n",
       " {'id': 2, 'name': 'Bohemian Rhapsody'},\n",
       " {'id': 3, 'name': 'Perfect'},\n",
       " {'id': 4, 'name': 'Believer'},\n",
       " {'id': 5, 'name': 'Living on a Prayer'},\n",
       " {'id': 6, 'name': 'Jingle Bells'},\n",
       " {'id': 7, 'name': 'Lose Yourself'},\n",
       " {'id': 8, 'name': 'Mockingbird'},\n",
       " {'id': 9, 'name': 'Sweet Child O Mine'}]"
      ]
     },
     "execution_count": 14,
     "metadata": {},
     "output_type": "execute_result"
    }
   ],
   "source": [
    "#dictionary of songs\n",
    "songs"
   ]
  },
  {
   "cell_type": "code",
   "execution_count": 15,
   "id": "7ea05d13",
   "metadata": {},
   "outputs": [
    {
     "name": "stdout",
     "output_type": "stream",
     "text": [
      "[(0, 0), (0, 1), (1, 1), (1, 2), (1, 3), (2, 4), (3, 5), (3, 6), (4, 4), (4, 7), (5, 9), (6, 8), (6, 9), (7, 0), (7, 1), (8, 2), (8, 6), (9, 9)]\n"
     ]
    }
   ],
   "source": [
    "#list of tuples for the songs covered by musicians\n",
    "print(musician_covers)"
   ]
  },
  {
   "cell_type": "code",
   "execution_count": 16,
   "id": "4645afcf",
   "metadata": {},
   "outputs": [
    {
     "name": "stdout",
     "output_type": "stream",
     "text": [
      "['Katy Perry', 'Three Doors Down'] covered 'All of Me'\n",
      "['Smash Mouth', 'Guns N Roses'] covered 'Bohemian Rhapsody'\n",
      "['Eminem'] covered 'Lose Yourself'\n"
     ]
    }
   ],
   "source": [
    "#testing of the who covered function\n",
    "print(f\"{who_covered('All of Me')} covered 'All of Me'\")\n",
    "print(f\"{who_covered('Bohemian Rhapsody')} covered 'Bohemian Rhapsody'\")\n",
    "print(f\"{who_covered('Lose Yourself')} covered 'Lose Yourself'\")"
   ]
  },
  {
   "cell_type": "code",
   "execution_count": 17,
   "id": "618ed058",
   "metadata": {},
   "outputs": [
    {
     "name": "stdout",
     "output_type": "stream",
     "text": [
      "The id of artist 'Katy Perry' is 0\n",
      "The id of artist 'Aerosmith' is 2\n",
      "The id of artist 'Smash Mouth' is 1\n",
      "\n",
      "The name of the artist of id '4' is Eminem\n",
      "The name of the artist of id '0' is Katy Perry\n",
      "The name of the artist of id '7' is Three Doors Down\n",
      "\n",
      "The name of the song of id '4' is Believer\n",
      "The name of the song of id '8' is Mockingbird\n",
      "The name of the song of id '2' is Bohemian Rhapsody\n"
     ]
    }
   ],
   "source": [
    "#testing of extra functions find_artist_id, artist_name, song_name\n",
    "print(f\"The id of artist 'Katy Perry' is {find_artist_id('Katy Perry')}\")\n",
    "print(f\"The id of artist 'Aerosmith' is {find_artist_id('Aerosmith')}\")\n",
    "print(f\"The id of artist 'Smash Mouth' is {find_artist_id('Smash Mouth')}\\n\")\n",
    "\n",
    "print(f\"The name of the artist of id '4' is {artist_name(4)}\")\n",
    "print(f\"The name of the artist of id '0' is {artist_name(0)}\")\n",
    "print(f\"The name of the artist of id '7' is {artist_name(7)}\\n\")\n",
    "\n",
    "print(f\"The name of the song of id '4' is {song_name(4)}\")\n",
    "print(f\"The name of the song of id '8' is {song_name(8)}\")\n",
    "print(f\"The name of the song of id '2' is {song_name(2)}\")"
   ]
  },
  {
   "cell_type": "code",
   "execution_count": 18,
   "id": "b2f92915",
   "metadata": {},
   "outputs": [
    {
     "name": "stdout",
     "output_type": "stream",
     "text": [
      "Artist 'Queen' shares these songs with other artists: ['Sweet Child O Mine']\n",
      "Artist 'Katy Perry' shares these songs with other artists: ['All of Me', 'Allstar']\n",
      "Artist 'John Legend' shares these songs with other artists: ['Sweet Child O Mine', 'Mockingbird']\n"
     ]
    }
   ],
   "source": [
    "#testing of shared_songs function\n",
    "print(f\"Artist 'Queen' shares these songs with other artists: {shared_songs('Queen')}\")\n",
    "print(f\"Artist 'Katy Perry' shares these songs with other artists: {shared_songs('Katy Perry')}\")\n",
    "print(f\"Artist 'John Legend' shares these songs with other artists: {shared_songs('John Legend')}\")"
   ]
  },
  {
   "cell_type": "code",
   "execution_count": 11,
   "id": "1b18b778",
   "metadata": {},
   "outputs": [
    {
     "data": {
      "text/plain": [
       "[('Allstar', 3),\n",
       " ('Sweet Child O Mine', 3),\n",
       " ('All of Me', 2),\n",
       " ('Bohemian Rhapsody', 2),\n",
       " ('Believer', 2),\n",
       " ('Jingle Bells', 2),\n",
       " ('Perfect', 1),\n",
       " ('Living on a Prayer', 1),\n",
       " ('Lose Yourself', 1),\n",
       " ('Mockingbird', 1)]"
      ]
     },
     "execution_count": 11,
     "metadata": {},
     "output_type": "execute_result"
    }
   ],
   "source": [
    "#testing of the song_popularity function\n",
    "song_popularity()"
   ]
  },
  {
   "cell_type": "code",
   "execution_count": 20,
   "id": "da8b5399",
   "metadata": {},
   "outputs": [
    {
     "name": "stdout",
     "output_type": "stream",
     "text": [
      "[(0, 'pop'), (0, 'female lead'), (1, 'rock'), (1, 'male lead'), (2, 'guitar'), (2, 'male lead'), (2, 'original'), (3, 'quiet'), (3, 'female lead'), (4, 'guitar'), (4, 'rock'), (5, 'female lead'), (5, 'pop'), (6, 'folk'), (6, 'loud'), (7, 'original'), (7, 'male lead'), (7, 'loud'), (8, 'quiet'), (8, 'guitar'), (8, 'male lead'), (8, 'female lead'), (9, 'rock'), (9, 'blues')]\n"
     ]
    }
   ],
   "source": [
    "#printing keywords\n",
    "print(keywords)"
   ]
  },
  {
   "cell_type": "code",
   "execution_count": 21,
   "id": "5864a622",
   "metadata": {},
   "outputs": [
    {
     "name": "stdout",
     "output_type": "stream",
     "text": [
      "The artists that have the most in common with 'Guns N Roses' are ['Aerosmith', 'Miley Cyrus', 'Three Doors Down']\n",
      "The artists that have the most in common with 'Smash Mouth' are ['Three Doors Down', 'Guns N Roses', 'First to Eleven']\n",
      "The artists that have the most in common with 'First to Eleven' are ['Smash Mouth', 'Eminem', 'Guns N Roses']\n"
     ]
    }
   ],
   "source": [
    "#testing similar artist function\n",
    "print(f\"The artists that have the most in common with 'Guns N Roses' are {similar_artists('Guns N Roses')}\")\n",
    "print(f\"The artists that have the most in common with 'Smash Mouth' are {similar_artists('Smash Mouth')}\")\n",
    "print(f\"The artists that have the most in common with 'First to Eleven' are {similar_artists('First to Eleven')}\")"
   ]
  },
  {
   "cell_type": "markdown",
   "id": "6cd8bfaa",
   "metadata": {},
   "source": [
    "# Thoughts and Trials on Visualization\n",
    "\n",
    "- My first thoughts on how to visualize the data would be to build functions that can report statistics. When trying to visualize the 'type' of each song, I look to the keywords and I would like to know how many of each 'type' appears.\n",
    "- As for the what types of artists tend to play each song, it would be important to classify song types. I.e. what type of song is Sweet Child O' Mine? All of Me? Does a particular artist only sing rock songs? Only use guitar?\n",
    "- Looking at the style of a song, we might not necessarily need the keywords for each song, but can look at the artists already given keywords. For example, if an artist sings Sweet Child O' Mine and Kryptonite, and the artist has the keyword 'rock' and 'guitar', we can begin to connect that those two songs might be 'rock' songs and/or use the 'guitar'.\n",
    "- Similarily, we can check all of the artists that covered a particular song, and see if all of those artists have the keyword 'rock' or 'guitar', and make a more definitive assumption that the song is indeed a rock song. I would use some sort of bar graph to graph two things: the number of times a song is covered and the number of times the artist that sang the song holds a certain keyword. For example, if Sweet Child O' Mine is sang by 5 artists, and only 4 out of 5 of those artists hold the keyword 'rock', then we can see visualually in a bar graph the bar, 5 next to the bar, 4, and we can even statistically say that for that particular 'rock' song, 80% of artists have the keyword 'rock'. We can determine the threshhold of what is an 'acceptable' assumpition, maybe majority rules (>50%)? Here we begin to make a mapping of songs->keywords (this may start to overlap into neural networks (; ).\n",
    "- Some libraries that are definitely going to be useful are the numpy, matplotlib, and pandas. Pandas will give us a very organized dataframe, while matplotlib can plot the results into something we can see. For example, we can plot songs on the x axis to # of times it's been covered (like our song popularity function) and create a line graph to see which point is greater. We can use the popularity to maybe make a pandas dataframe of song -> count and then load that dataframe into matplotlib. Another underestimated and powerful tool is excel! I love excel because it's super easy to highlight and graph, or import and graph.\n",
    "- Pie charts could also be implemented. We can create graphs that categorize songs and artists by type.\n",
    "- For the last response, I sort of already touched on it, but again, I would like to use a mapping from songs covered to the keywords of the artist who covered it. This would let us correlate (based on frequency) what songs belong to what keywords. If the song is sang by 5 artists, and each of those artists have the keyword 'classics', then it can be inferred that the song is 100% a 'classic' song. Also, of those 5 artists, if 3 of them have 'keyboard' and 2 of them have 'slow rhythm', then we might be able to infer that 100% of the artists who covered the song are 'classical', 60% of the artists use 'keyboard' and 40% of the artists use a 'slow rhythm'. If we use a majority rules situation, we can say that the song in question is definitely a 'classic', mostly played on the 'keyboard' and sometimes used in a 'slow rhythm'. If I were spotify trying to provide music to the user's request, I would recommend a song heirarchy of the most that match 'classic','keyboard' and 'slow'.\n",
    "- In the digitally drawn bar graph provided, the white bars represent the times the song was covered and the red bars represent the times it the particular keyword was found with the artists (in this example, 'rock'). If the bars were equal, that means that 100% of the artists had keyword 'rock'. If the bars were very different in sizes, that means that the artists who covered the song didn't really have the keyword (meaning that song most likely is not normally a 'rock' song). This chart can also show the the most popular songs, given by the white bar, which shows the number of times it was covered.\n"
   ]
  },
  {
   "cell_type": "code",
   "execution_count": null,
   "id": "22483d3c",
   "metadata": {},
   "outputs": [],
   "source": []
  },
  {
   "cell_type": "code",
   "execution_count": null,
   "id": "b94140fc",
   "metadata": {},
   "outputs": [],
   "source": []
  },
  {
   "cell_type": "code",
   "execution_count": null,
   "id": "4ffe8ac2",
   "metadata": {},
   "outputs": [],
   "source": []
  }
 ],
 "metadata": {
  "kernelspec": {
   "display_name": "Python 3",
   "language": "python",
   "name": "python3"
  },
  "language_info": {
   "codemirror_mode": {
    "name": "ipython",
    "version": 3
   },
   "file_extension": ".py",
   "mimetype": "text/x-python",
   "name": "python",
   "nbconvert_exporter": "python",
   "pygments_lexer": "ipython3",
   "version": "3.8.8"
  }
 },
 "nbformat": 4,
 "nbformat_minor": 5
}
