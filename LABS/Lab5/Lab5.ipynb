{
 "cells": [
  {
   "cell_type": "markdown",
   "id": "ec3cc7f0",
   "metadata": {},
   "source": [
    "### Author: Mitchell Krystofiak\n",
    "### Class: COSC 311 - Lab5\n",
    "### Date: November 19, 2021\n",
    "### Description: Implementing the K- Nearest Neigbors supervised and the K- Means unsupervised machine learning algorithms on the iris and adults data sets."
   ]
  },
  {
   "cell_type": "code",
   "execution_count": 9,
   "id": "826d8e5e",
   "metadata": {},
   "outputs": [],
   "source": [
    "import numpy as np\n",
    "import pandas as pd\n",
    "import numpy.linalg as la\n",
    "from collections import Counter\n",
    "import copy as cp\n",
    "from matplotlib import pyplot as plt\n",
    "import random\n",
    "from tqdm import tqdm"
   ]
  },
  {
   "cell_type": "code",
   "execution_count": 10,
   "id": "f4ab5bb3",
   "metadata": {},
   "outputs": [],
   "source": [
    "adults = pd.read_csv('./adult.data', skipinitialspace=True, header=None, names = ['age','workclass','fnlwgt','education',\n",
    "                     'education-num','marital-status','occupation','relationship','race','sex','capital-gain','capital-loss',\n",
    "                     'hours-per-week','native-country','income'])\n",
    "iris = pd.read_csv('./iris.data',header=None, names=['Sepal Length','Sepal Width','Petal Length','Petal Width','Class'])"
   ]
  },
  {
   "cell_type": "markdown",
   "id": "592f54a7",
   "metadata": {},
   "source": [
    "### 2. Implement K Nearest Neighbors alogithm with handmade data testing."
   ]
  },
  {
   "cell_type": "code",
   "execution_count": 11,
   "id": "9f9b419b",
   "metadata": {},
   "outputs": [],
   "source": [
    "class K_Nearest_Neighbors:\n",
    "    \n",
    "    # Takes no parameters, assumes default value k = 3\n",
    "    def __init__(self, k=3):\n",
    "        self.k = k\n",
    "        self.values = []\n",
    "        self.labels = []\n",
    "    \n",
    "    # Sets the data values and labels\n",
    "    def train(self, a, b):\n",
    "        self.values = a\n",
    "        self.labels = b\n",
    "        \n",
    "    # Requires a test value   \n",
    "    def predict(self, test_value):\n",
    "        \n",
    "        if len(test_value) != len(self.values[0]):\n",
    "            print(\"Test value dimensions do not match trained values dimensions.\")\n",
    "            return\n",
    "        \n",
    "        closest = []\n",
    "        norms = []\n",
    "        temp_labels = list(self.labels)\n",
    "        \n",
    "        for i in range(len(self.values)):\n",
    "            norms.append([la.norm(self.values[i] - test_value), self.labels[i]]) #keep track of actual class\n",
    "            \n",
    "        for i in range(self.k):\n",
    "            min_value = min(norms)\n",
    "            closest.append(min_value[1])\n",
    "            norms.remove(min_value)\n",
    "            \n",
    "        return max(closest,key=closest.count)                      "
   ]
  },
  {
   "cell_type": "markdown",
   "id": "63c9d691",
   "metadata": {},
   "source": [
    "### Handmade data test."
   ]
  },
  {
   "cell_type": "code",
   "execution_count": 12,
   "id": "4bf87249",
   "metadata": {},
   "outputs": [],
   "source": [
    "test2 = K_Nearest_Neighbors()"
   ]
  },
  {
   "cell_type": "code",
   "execution_count": 13,
   "id": "b05a3446",
   "metadata": {},
   "outputs": [],
   "source": [
    "x = np.array([[0,0],[1,0],[0,1],[1,1],[2,1],[2,2],[2,3],[3,1]])\n",
    "y = np.array(['Blue','Red','Blue','Red','Green','Green','Green','Red'])"
   ]
  },
  {
   "cell_type": "code",
   "execution_count": 14,
   "id": "76f2e5f8",
   "metadata": {},
   "outputs": [],
   "source": [
    "test2.train(x, y)"
   ]
  },
  {
   "cell_type": "code",
   "execution_count": 15,
   "id": "c65f38c3",
   "metadata": {},
   "outputs": [
    {
     "data": {
      "text/plain": [
       "'Green'"
      ]
     },
     "execution_count": 15,
     "metadata": {},
     "output_type": "execute_result"
    }
   ],
   "source": [
    "test2.predict([3, 3])"
   ]
  },
  {
   "cell_type": "code",
   "execution_count": 16,
   "id": "1bcebd7e",
   "metadata": {},
   "outputs": [
    {
     "data": {
      "text/plain": [
       "'Red'"
      ]
     },
     "execution_count": 16,
     "metadata": {},
     "output_type": "execute_result"
    }
   ],
   "source": [
    "test2.predict([.6,.5])"
   ]
  },
  {
   "cell_type": "markdown",
   "id": "e8a2f12f",
   "metadata": {},
   "source": [
    "### 3. Routine to split a data set given a certain percentage."
   ]
  },
  {
   "cell_type": "code",
   "execution_count": 17,
   "id": "52f4713a",
   "metadata": {},
   "outputs": [],
   "source": [
    "def split_data(data, p):\n",
    "    n = len(data)\n",
    "    p_train = n*p\n",
    "    p_test  = n*(1-p)\n",
    "    copy = cp.deepcopy(data)\n",
    "    np.random.shuffle(copy)\n",
    "    return (copy[0:int(p_train)]), (copy[int(p_train):])"
   ]
  },
  {
   "cell_type": "code",
   "execution_count": 18,
   "id": "7e1b4e08",
   "metadata": {},
   "outputs": [],
   "source": [
    "train_set, test_set = split_data(x, .75)"
   ]
  },
  {
   "cell_type": "code",
   "execution_count": 19,
   "id": "136f6c6f",
   "metadata": {},
   "outputs": [
    {
     "data": {
      "text/plain": [
       "array([[2, 2],\n",
       "       [0, 0],\n",
       "       [2, 1],\n",
       "       [2, 3],\n",
       "       [1, 0],\n",
       "       [3, 1]])"
      ]
     },
     "execution_count": 19,
     "metadata": {},
     "output_type": "execute_result"
    }
   ],
   "source": [
    "train_set"
   ]
  },
  {
   "cell_type": "code",
   "execution_count": 20,
   "id": "ba294083",
   "metadata": {},
   "outputs": [
    {
     "data": {
      "text/plain": [
       "array([[0, 1],\n",
       "       [1, 1]])"
      ]
     },
     "execution_count": 20,
     "metadata": {},
     "output_type": "execute_result"
    }
   ],
   "source": [
    "test_set"
   ]
  },
  {
   "cell_type": "markdown",
   "id": "d132e1b8",
   "metadata": {},
   "source": [
    "### 4. Implement and test K-Means on Iris dataset."
   ]
  },
  {
   "cell_type": "code",
   "execution_count": 21,
   "id": "43b001f2",
   "metadata": {},
   "outputs": [],
   "source": [
    "class K_Means:\n",
    "    \n",
    "    def __init__(self, k=3, tol=.0001, iters=1000):\n",
    "        self.k = k\n",
    "        self.tol = tol\n",
    "        self.iters = iters\n",
    "        self.centers = {}\n",
    "        self.classes = {}\n",
    "        \n",
    "    def train(self, data):\n",
    "        \n",
    "        ## Randomly shuffle data to pick out random centers.\n",
    "        copy = cp.deepcopy(data)\n",
    "        np.random.shuffle(copy)\n",
    "        \n",
    "        ## Pick out random centers.\n",
    "        for i in range(self.k):\n",
    "            self.centers[i] = copy[i]\n",
    "        \n",
    "        \"\"\"\n",
    "         For the max number of iterations, or up until the tolerance is reached,\n",
    "         reset the classes and fill in an empty position, calculate the norms,\n",
    "         pick out the minimum distances, and then grab k classifications.\n",
    "         \n",
    "         The previous values are kept to check the tolerance threshold and see if \n",
    "         we are converging towards a mean, or if we are oscillating.\n",
    "        \n",
    "        \"\"\"\n",
    "        for i in range(self.iters):\n",
    "            self.classes = {}\n",
    "            done = False\n",
    "        \n",
    "            for j in range(self.k):\n",
    "                self.classes[j] = []\n",
    "            \n",
    "            for j in data:\n",
    "                norms = [la.norm(j - self.centers[c]) for c in self.centers]\n",
    "                min_value = norms.index(min(norms))\n",
    "                self.classes[min_value].append(j)\n",
    "            \n",
    "            previous_centers = dict(self.centers)\n",
    "            \n",
    "            for j in self.classes:\n",
    "                self.centers[min_value] = np.average(self.classes[min_value], axis = 0)\n",
    "            \n",
    "            for j in self.centers:\n",
    "                \n",
    "                old_value = previous_centers[j]\n",
    "                new_value = self.centers[j]\n",
    "                \n",
    "                if np.sum((new_value - old_value)/old_value * 100.0) <= self.tol:\n",
    "                    done = True\n",
    "            \n",
    "            if done:\n",
    "                break\n",
    "        \n",
    "    def predict(self, test_value):\n",
    "        norms = [la.norm(test_value - self.centers[c]) for c in self.centers]\n",
    "        min_value = norms.index(min(norms))\n",
    "        return min_value\n",
    "        "
   ]
  },
  {
   "cell_type": "markdown",
   "id": "a6f942d5",
   "metadata": {},
   "source": [
    "### Using two columns of data at a time from the Iris set. Also using Lab3 code to show the actual classes it belongs to."
   ]
  },
  {
   "cell_type": "code",
   "execution_count": 22,
   "id": "42257ca5",
   "metadata": {},
   "outputs": [
    {
     "data": {
      "image/png": "[encoded data removed]",
      "text/plain": [
       "<Figure size 432x288 with 2 Axes>"
      ]
     },
     "metadata": {
      "needs_background": "light"
     },
     "output_type": "display_data"
    },
    {
     "data": {
      "image/png": "[encoded data removed]",
      "text/plain": [
       "<Figure size 432x288 with 2 Axes>"
      ]
     },
     "metadata": {
      "needs_background": "light"
     },
     "output_type": "display_data"
    },
    {
     "data": {
      "image/png": "[encoded data removed]",
      "text/plain": [
       "<Figure size 432x288 with 2 Axes>"
      ]
     },
     "metadata": {
      "needs_background": "light"
     },
     "output_type": "display_data"
    },
    {
     "data": {
      "image/png": "[encoded data removed]",
      "text/plain": [
       "<Figure size 432x288 with 2 Axes>"
      ]
     },
     "metadata": {
      "needs_background": "light"
     },
     "output_type": "display_data"
    },
    {
     "data": {
      "image/png": "[encoded data removed]",
      "text/plain": [
       "<Figure size 432x288 with 2 Axes>"
      ]
     },
     "metadata": {
      "needs_background": "light"
     },
     "output_type": "display_data"
    },
    {
     "data": {
      "image/png": "[encoded data removed]",
      "text/plain": [
       "<Figure size 432x288 with 2 Axes>"
      ]
     },
     "metadata": {
      "needs_background": "light"
     },
     "output_type": "display_data"
    },
    {
     "data": {
      "text/plain": [
       "<Figure size 432x288 with 0 Axes>"
      ]
     },
     "metadata": {},
     "output_type": "display_data"
    }
   ],
   "source": [
    "setosa = iris[iris['Class'] == 'Iris-setosa']\n",
    "virginica = iris[iris['Class'] == 'Iris-virginica']\n",
    "versicolor = iris[iris['Class'] == 'Iris-versicolor']\n",
    "\n",
    "km = K_Means()\n",
    "colors = 10*['r','g','c','b','k'] # good for up to k = 5\n",
    "for i in range(4):\n",
    "    plt.clf()\n",
    "    for j in range(i+1,4):\n",
    "        values = iris[[iris.columns[i],iris.columns[j]]].values\n",
    "        km.train(values)\n",
    "        plt.subplot(1,2,1)\n",
    "        for k in km.centers:\n",
    "            plt.scatter(km.centers[k][0], km.centers[k][1], color='k', s= 130, marker = 'x')\n",
    "        plt.title(f'{iris.columns[i]} vs {iris.columns[j]}')\n",
    "        plt.xlabel(iris.columns[i])\n",
    "        plt.ylabel(iris.columns[j])\n",
    "        for k in km.classes:\n",
    "            color = colors[k]\n",
    "            for m in km.classes[k]:\n",
    "                plt.scatter(m[0],m[1], color = color, s = 20)\n",
    "        plt.xticks(np.arange(0,8.5))\n",
    "        \n",
    "        plt.subplot(1,2,2)\n",
    "        plt.scatter(x=setosa[setosa.columns[i]].values, y=setosa[setosa.columns[j]].values, color='red', marker='*')\n",
    "        plt.scatter(x=virginica[virginica.columns[i]].values, y=virginica[virginica.columns[j]].values, color='blue', marker='+')\n",
    "        plt.scatter(x=versicolor[versicolor.columns[i]].values, y=versicolor[versicolor.columns[j]].values, color='orange', marker='.')\n",
    "        plt.legend(['Setosa','Virginica','Versicolor'])\n",
    "        plt.xlabel(setosa.columns[i])\n",
    "        plt.ylabel(setosa.columns[j])\n",
    "        plt.title(f'{setosa.columns[i]} vs {setosa.columns[j]}')\n",
    "        plt.xticks(np.arange(0,8.5))\n",
    "\n",
    "        plt.show()        "
   ]
  },
  {
   "cell_type": "markdown",
   "id": "9017b2b9",
   "metadata": {},
   "source": [
    "Couldn't get the figsize command to work how I wanted it :(.\n",
    "Judging by the graphs of each comparison, we do get some error:\n",
    "- The Sepal Length vs Sepal Width graph loses about half of the actual setosa class and makes it it's own class entirely. It also doesn't appear to respond well to a mixed class situation.\n",
    "- The Sepal Length vs Petal Length graph classified the separate setosa section well, but when the two other classes started mixing, it just drew a boundary between the top and bottom.\n",
    "- The Sepal Length vs Petal Width graph was very interesting and the clustering happened in a vertical manner. I expected it to work like the other two, since the boundaries were kind of defined, but maybe this just behaved the way it did because of the randomness.\n",
    "- The Sepal Width vs Petal Length did a very good job at classifying, but again with the mixing, it has to draw a border.\n",
    "- The Sepal Width vs Petal Width did again a good job, mixing errors.\n",
    "- The Petal Length vs Petal Width behaved sort of unusually, but not really. It does have difficulty deciphering between two mixed or side by side data sets."
   ]
  },
  {
   "cell_type": "markdown",
   "id": "05b1da33",
   "metadata": {},
   "source": [
    "### Using all four columns at a time."
   ]
  },
  {
   "cell_type": "code",
   "execution_count": 23,
   "id": "9482e4dc",
   "metadata": {},
   "outputs": [
    {
     "data": {
      "image/png": "[encoded data removed]",
      "text/plain": [
       "<Figure size 432x288 with 1 Axes>"
      ]
     },
     "metadata": {
      "needs_background": "light"
     },
     "output_type": "display_data"
    }
   ],
   "source": [
    "km = K_Means()\n",
    "values = iris[['Sepal Length','Sepal Width','Petal Length','Petal Width']].values\n",
    "km.train(values)\n",
    "for k in km.centers:\n",
    "    plt.scatter(km.centers[k][0], km.centers[k][1], color='k', s= 130, marker = 'x')\n",
    "for i in km.classes:\n",
    "    color = colors[i]\n",
    "    for j in km.classes[i]:\n",
    "        plt.scatter(j[0],j[1], color = color, s = 20)\n",
    "    plt.xticks(np.arange(0,8.5, 0.5))\n",
    "\n",
    "plt.title(\"Results of K-Mean Clustering on Iris Dataset\")\n",
    "plt.xlabel(\"\")"
   ]
  },
  {
   "cell_type": "markdown",
   "id": "95690a12",
   "metadata": {},
   "source": [
    "These results are not exactly as expected, since we know that we have 50 points for each of the classes, yet our 'red' category is very small and the others are very large. Again, this probably has to do with mixed data values. If we had a training algorithm similar to this one that adjusted based on the correctness (say, neural network weights) or an algorithm to, instead of forming linear boundary lines, could build jagged boundary lines, we might classify these flowers better."
   ]
  },
  {
   "cell_type": "markdown",
   "id": "78c368c3",
   "metadata": {},
   "source": [
    "### 5. Use KNN on the Iris dataset."
   ]
  },
  {
   "cell_type": "code",
   "execution_count": 475,
   "id": "795af003",
   "metadata": {},
   "outputs": [],
   "source": [
    "knn = K_Nearest_Neighbors()"
   ]
  },
  {
   "cell_type": "code",
   "execution_count": 476,
   "id": "488ef6b0",
   "metadata": {},
   "outputs": [],
   "source": [
    "values = iris[['Sepal Length','Sepal Width','Petal Length','Petal Width']].values\n",
    "labels = iris['Class'].values\n",
    "\n",
    "## For the life of me, I could not figure out a better way to do this.\n",
    "data = []\n",
    "for i in range(len(values)):\n",
    "    data.append([values[i],labels[i]])\n",
    "    \n",
    "train_set, test_set = split_data(data, .8)\n",
    "\n",
    "train_values = []\n",
    "train_labels = []\n",
    "for i in range(len(train_set)):\n",
    "    train_values.append(train_set[i][0])\n",
    "    train_labels.append(train_set[i][1])\n",
    "    \n",
    "test_values = []\n",
    "test_labels = []\n",
    "for i in range(len(test_set)):\n",
    "    test_values.append(test_set[i][0])\n",
    "    test_labels.append(test_set[i][1])\n",
    "\n"
   ]
  },
  {
   "cell_type": "code",
   "execution_count": 477,
   "id": "637b9e78",
   "metadata": {},
   "outputs": [],
   "source": [
    "knn.train(train_values, train_labels)"
   ]
  },
  {
   "cell_type": "markdown",
   "id": "80fb27c8",
   "metadata": {},
   "source": [
    "### a. Confusion matrix (similar)"
   ]
  },
  {
   "cell_type": "code",
   "execution_count": 478,
   "id": "7fd57862",
   "metadata": {},
   "outputs": [
    {
     "name": "stdout",
     "output_type": "stream",
     "text": [
      "Using 80% of the data (120 values) to train the model, and then testing it\n",
      "with the other 20% of the data (30 values), we get 30 correct predictions\n",
      "and 0 wrong predictions, giving a accuracy of 100.0%.\n"
     ]
    }
   ],
   "source": [
    "errors = 0\n",
    "correct = 0\n",
    "for i in range(len(test_values)):\n",
    "    prediction = knn.predict(test_values[i])\n",
    "    if (prediction is test_labels[i]):\n",
    "        correct += 1\n",
    "    else:\n",
    "        errors += 1\n",
    "print(f\"Using 80% of the data (120 values) to train the model, and then testing it\")\n",
    "print(f\"with the other 20% of the data (30 values), we get {correct} correct predictions\")\n",
    "print(f\"and {errors} wrong predictions, giving a accuracy of {correct/(correct+errors)*100}%.\")"
   ]
  },
  {
   "cell_type": "markdown",
   "id": "e6c10288",
   "metadata": {},
   "source": [
    "### b. Changing the ratio of training sets to testing sets."
   ]
  },
  {
   "cell_type": "code",
   "execution_count": 479,
   "id": "27228d5b",
   "metadata": {},
   "outputs": [
    {
     "name": "stdout",
     "output_type": "stream",
     "text": [
      "Train = 7.773958347147769%, Test = 92.22604165285223, Correct = 130, Errors = 9, Accuracy = 93.5251798561151%\n",
      "\n",
      "\n",
      "Train = 78.88278189586589%, Test = 21.117218104134107, Correct = 31, Errors = 1, Accuracy = 96.875%\n",
      "\n",
      "\n",
      "Train = 49.60055847588548%, Test = 50.39944152411452, Correct = 72, Errors = 4, Accuracy = 94.73684210526315%\n",
      "\n",
      "\n",
      "Train = 14.006706109400724%, Test = 85.99329389059928, Correct = 122, Errors = 7, Accuracy = 94.57364341085271%\n",
      "\n",
      "\n",
      "Train = 96.55716888063324%, Test = 3.4428311193667627, Correct = 6, Errors = 0, Accuracy = 100.0%\n",
      "\n",
      "\n",
      "Train = 92.69388075344544%, Test = 7.306119246554554, Correct = 9, Errors = 2, Accuracy = 81.81818181818183%\n",
      "\n",
      "\n",
      "Train = 21.133810596103707%, Test = 78.86618940389629, Correct = 111, Errors = 8, Accuracy = 93.27731092436974%\n",
      "\n",
      "\n",
      "Train = 65.94386947165295%, Test = 34.05613052834705, Correct = 51, Errors = 1, Accuracy = 98.07692307692307%\n",
      "\n",
      "\n",
      "Train = 29.176488703366132%, Test = 70.82351129663387, Correct = 104, Errors = 3, Accuracy = 97.19626168224299%\n",
      "\n",
      "\n",
      "Train = 39.4320401932022%, Test = 60.5679598067978, Correct = 88, Errors = 3, Accuracy = 96.7032967032967%\n",
      "\n",
      "\n"
     ]
    }
   ],
   "source": [
    "## Going to test 10 different trials\n",
    "for i in range(10):\n",
    "    p = random.uniform(0,1)\n",
    "    data = []\n",
    "    for i in range(len(values)):\n",
    "        data.append([values[i],labels[i]])\n",
    "    \n",
    "    train_set, test_set = split_data(data, p)\n",
    "\n",
    "    train_values = []\n",
    "    train_labels = []\n",
    "    for i in range(len(train_set)):\n",
    "        train_values.append(train_set[i][0])\n",
    "        train_labels.append(train_set[i][1])\n",
    "    \n",
    "    test_values = []\n",
    "    test_labels = []\n",
    "    for i in range(len(test_set)):\n",
    "        test_values.append(test_set[i][0])\n",
    "        test_labels.append(test_set[i][1])\n",
    "\n",
    "    knn.train(train_values, train_labels)\n",
    "    \n",
    "    errors = 0\n",
    "    correct = 0\n",
    "    for i in range(len(test_values)):\n",
    "        prediction = knn.predict(test_values[i])\n",
    "        if (prediction is test_labels[i]):\n",
    "            correct += 1\n",
    "        else:\n",
    "            errors += 1\n",
    "    print(f\"Train = {p*100}%, Test = {(1-p)*100}, Correct = {correct}, Errors = {errors}, Accuracy = {correct/(correct+errors)*100}%\")\n",
    "    print('\\n')"
   ]
  },
  {
   "cell_type": "markdown",
   "id": "e2c5b94d",
   "metadata": {},
   "source": [
    "In the above itterations, we randomly select p between 0 and 1 to split the dataset into the train and test sets. We see a variety of results, but some outliers are the 15% training data with a 89% accuracy and the 26% training data with the 95% accuracy. We would expect more training data to mean higher accuracy. However, as I'm about to find out in the next few cells, it appears that the random shuffling of the data in the 'split_data' function makes quite a difference. We do have consistency with the higher train percentages always resulting in a decently high percentage, indicating that more train data does impact the accuracy."
   ]
  },
  {
   "cell_type": "markdown",
   "id": "e08183bd",
   "metadata": {},
   "source": [
    "### c. Testing the impact of the random shuffle in the split_data function."
   ]
  },
  {
   "cell_type": "code",
   "execution_count": 480,
   "id": "db698798",
   "metadata": {},
   "outputs": [
    {
     "name": "stdout",
     "output_type": "stream",
     "text": [
      "Train = 10.0%, Test = 90.0, Correct = 112, Errors = 23, Accuracy = 82.96296296296296%\n",
      "\n",
      "\n",
      "Train = 10.0%, Test = 90.0, Correct = 127, Errors = 8, Accuracy = 94.07407407407408%\n",
      "\n",
      "\n",
      "Train = 10.0%, Test = 90.0, Correct = 111, Errors = 24, Accuracy = 82.22222222222221%\n",
      "\n",
      "\n",
      "Train = 10.0%, Test = 90.0, Correct = 133, Errors = 2, Accuracy = 98.51851851851852%\n",
      "\n",
      "\n",
      "Train = 10.0%, Test = 90.0, Correct = 122, Errors = 13, Accuracy = 90.37037037037037%\n",
      "\n",
      "\n",
      "Train = 10.0%, Test = 90.0, Correct = 129, Errors = 6, Accuracy = 95.55555555555556%\n",
      "\n",
      "\n",
      "Train = 10.0%, Test = 90.0, Correct = 128, Errors = 7, Accuracy = 94.81481481481482%\n",
      "\n",
      "\n",
      "Train = 10.0%, Test = 90.0, Correct = 130, Errors = 5, Accuracy = 96.29629629629629%\n",
      "\n",
      "\n",
      "Train = 10.0%, Test = 90.0, Correct = 130, Errors = 5, Accuracy = 96.29629629629629%\n",
      "\n",
      "\n",
      "Train = 10.0%, Test = 90.0, Correct = 115, Errors = 20, Accuracy = 85.18518518518519%\n",
      "\n",
      "\n"
     ]
    }
   ],
   "source": [
    "## Going to test 10 different trials\n",
    "for i in range(10):\n",
    "    p = .1 #set p here\n",
    "    data = []\n",
    "    for i in range(len(values)):\n",
    "        data.append([values[i],labels[i]])\n",
    "    \n",
    "    train_set, test_set = split_data(data, p)\n",
    "\n",
    "    train_values = []\n",
    "    train_labels = []\n",
    "    for i in range(len(train_set)):\n",
    "        train_values.append(train_set[i][0])\n",
    "        train_labels.append(train_set[i][1])\n",
    "    \n",
    "    test_values = []\n",
    "    test_labels = []\n",
    "    for i in range(len(test_set)):\n",
    "        test_values.append(test_set[i][0])\n",
    "        test_labels.append(test_set[i][1])\n",
    "\n",
    "    knn.train(train_values, train_labels)\n",
    "    \n",
    "    errors = 0\n",
    "    correct = 0\n",
    "    for i in range(len(test_values)):\n",
    "        prediction = knn.predict(test_values[i])\n",
    "        if (prediction is test_labels[i]):\n",
    "            correct += 1\n",
    "        else:\n",
    "            errors += 1\n",
    "    print(f\"Train = {p*100}%, Test = {(1-p)*100}, Correct = {correct}, Errors = {errors}, Accuracy = {correct/(correct+errors)*100}%\")\n",
    "    print('\\n')"
   ]
  },
  {
   "cell_type": "markdown",
   "id": "ee7cdf0b",
   "metadata": {},
   "source": [
    "After setting p = .8, we get consistently high results, with the lowest accuracy being 90%.\n",
    "After setting p = .9, we get high results, but our low is 87%. \n",
    "After setting p = .5, we get still high results, with our lowest being the 93%.\n",
    "\n",
    "It appears that we do see a consistent trend with more train data meaning more accuracy. However, we do see the randomness at play and we see different results every time we run the split_data function. "
   ]
  },
  {
   "cell_type": "markdown",
   "id": "303bb04c",
   "metadata": {},
   "source": [
    "### 6. Implementing the  KNN algorithm on the adults data set, or trying to at least."
   ]
  },
  {
   "cell_type": "markdown",
   "id": "54f2e1a7",
   "metadata": {},
   "source": [
    "The way I would try to determine the 'distance' between two adults is to make everything numerical that isn't. For example, we have a lot of data about marital status, working class, education, occupation, etc. We may want to figure out how many unique values of each there are and enumerate them. Something along the lines of 0->High School, 1->Associates, 2->Bachelors, and we would probably want to doctor the data in a 'rated' way, saying that a Bachelors degree is 'better' than an Associates degree. However, we really start to encounter some problems here, because what does 'better' mean? Why is 'never-married' better/worse than 'Married'? Who decides? This quickly starts to spiral into an impossible process. We may be able to use some of our basic statistics on each of the columns and see what categories make more money. For example, if we have high school, bachelors and associates, if we say that each of them have a >50K class and <=50K class, we could use that percentage to rate each category, sort them accordingly, and then enumerate.\n",
    "\n",
    "Another way to think about the adults data set is to only include numerical values. Just cut out the non-numerical information and use what we can to proceed. This does lose a lot of good indicators, though."
   ]
  },
  {
   "cell_type": "code",
   "execution_count": 481,
   "id": "cb59fe86",
   "metadata": {},
   "outputs": [
    {
     "data": {
      "text/html": [
       "<div>\n",
       "<style scoped>\n",
       "    .dataframe tbody tr th:only-of-type {\n",
       "        vertical-align: middle;\n",
       "    }\n",
       "\n",
       "    .dataframe tbody tr th {\n",
       "        vertical-align: top;\n",
       "    }\n",
       "\n",
       "    .dataframe thead th {\n",
       "        text-align: right;\n",
       "    }\n",
       "</style>\n",
       "<table border=\"1\" class=\"dataframe\">\n",
       "  <thead>\n",
       "    <tr style=\"text-align: right;\">\n",
       "      <th></th>\n",
       "      <th>age</th>\n",
       "      <th>workclass</th>\n",
       "      <th>fnlwgt</th>\n",
       "      <th>education</th>\n",
       "      <th>education-num</th>\n",
       "      <th>marital-status</th>\n",
       "      <th>occupation</th>\n",
       "      <th>relationship</th>\n",
       "      <th>race</th>\n",
       "      <th>sex</th>\n",
       "      <th>capital-gain</th>\n",
       "      <th>capital-loss</th>\n",
       "      <th>hours-per-week</th>\n",
       "      <th>native-country</th>\n",
       "      <th>income</th>\n",
       "    </tr>\n",
       "  </thead>\n",
       "  <tbody>\n",
       "    <tr>\n",
       "      <th>0</th>\n",
       "      <td>39</td>\n",
       "      <td>State-gov</td>\n",
       "      <td>77516</td>\n",
       "      <td>Bachelors</td>\n",
       "      <td>13</td>\n",
       "      <td>Never-married</td>\n",
       "      <td>Adm-clerical</td>\n",
       "      <td>Not-in-family</td>\n",
       "      <td>White</td>\n",
       "      <td>Male</td>\n",
       "      <td>2174</td>\n",
       "      <td>0</td>\n",
       "      <td>40</td>\n",
       "      <td>United-States</td>\n",
       "      <td>&lt;=50K</td>\n",
       "    </tr>\n",
       "    <tr>\n",
       "      <th>1</th>\n",
       "      <td>50</td>\n",
       "      <td>Self-emp-not-inc</td>\n",
       "      <td>83311</td>\n",
       "      <td>Bachelors</td>\n",
       "      <td>13</td>\n",
       "      <td>Married-civ-spouse</td>\n",
       "      <td>Exec-managerial</td>\n",
       "      <td>Husband</td>\n",
       "      <td>White</td>\n",
       "      <td>Male</td>\n",
       "      <td>0</td>\n",
       "      <td>0</td>\n",
       "      <td>13</td>\n",
       "      <td>United-States</td>\n",
       "      <td>&lt;=50K</td>\n",
       "    </tr>\n",
       "    <tr>\n",
       "      <th>2</th>\n",
       "      <td>38</td>\n",
       "      <td>Private</td>\n",
       "      <td>215646</td>\n",
       "      <td>HS-grad</td>\n",
       "      <td>9</td>\n",
       "      <td>Divorced</td>\n",
       "      <td>Handlers-cleaners</td>\n",
       "      <td>Not-in-family</td>\n",
       "      <td>White</td>\n",
       "      <td>Male</td>\n",
       "      <td>0</td>\n",
       "      <td>0</td>\n",
       "      <td>40</td>\n",
       "      <td>United-States</td>\n",
       "      <td>&lt;=50K</td>\n",
       "    </tr>\n",
       "    <tr>\n",
       "      <th>3</th>\n",
       "      <td>53</td>\n",
       "      <td>Private</td>\n",
       "      <td>234721</td>\n",
       "      <td>11th</td>\n",
       "      <td>7</td>\n",
       "      <td>Married-civ-spouse</td>\n",
       "      <td>Handlers-cleaners</td>\n",
       "      <td>Husband</td>\n",
       "      <td>Black</td>\n",
       "      <td>Male</td>\n",
       "      <td>0</td>\n",
       "      <td>0</td>\n",
       "      <td>40</td>\n",
       "      <td>United-States</td>\n",
       "      <td>&lt;=50K</td>\n",
       "    </tr>\n",
       "    <tr>\n",
       "      <th>4</th>\n",
       "      <td>28</td>\n",
       "      <td>Private</td>\n",
       "      <td>338409</td>\n",
       "      <td>Bachelors</td>\n",
       "      <td>13</td>\n",
       "      <td>Married-civ-spouse</td>\n",
       "      <td>Prof-specialty</td>\n",
       "      <td>Wife</td>\n",
       "      <td>Black</td>\n",
       "      <td>Female</td>\n",
       "      <td>0</td>\n",
       "      <td>0</td>\n",
       "      <td>40</td>\n",
       "      <td>Cuba</td>\n",
       "      <td>&lt;=50K</td>\n",
       "    </tr>\n",
       "    <tr>\n",
       "      <th>...</th>\n",
       "      <td>...</td>\n",
       "      <td>...</td>\n",
       "      <td>...</td>\n",
       "      <td>...</td>\n",
       "      <td>...</td>\n",
       "      <td>...</td>\n",
       "      <td>...</td>\n",
       "      <td>...</td>\n",
       "      <td>...</td>\n",
       "      <td>...</td>\n",
       "      <td>...</td>\n",
       "      <td>...</td>\n",
       "      <td>...</td>\n",
       "      <td>...</td>\n",
       "      <td>...</td>\n",
       "    </tr>\n",
       "    <tr>\n",
       "      <th>32556</th>\n",
       "      <td>27</td>\n",
       "      <td>Private</td>\n",
       "      <td>257302</td>\n",
       "      <td>Assoc-acdm</td>\n",
       "      <td>12</td>\n",
       "      <td>Married-civ-spouse</td>\n",
       "      <td>Tech-support</td>\n",
       "      <td>Wife</td>\n",
       "      <td>White</td>\n",
       "      <td>Female</td>\n",
       "      <td>0</td>\n",
       "      <td>0</td>\n",
       "      <td>38</td>\n",
       "      <td>United-States</td>\n",
       "      <td>&lt;=50K</td>\n",
       "    </tr>\n",
       "    <tr>\n",
       "      <th>32557</th>\n",
       "      <td>40</td>\n",
       "      <td>Private</td>\n",
       "      <td>154374</td>\n",
       "      <td>HS-grad</td>\n",
       "      <td>9</td>\n",
       "      <td>Married-civ-spouse</td>\n",
       "      <td>Machine-op-inspct</td>\n",
       "      <td>Husband</td>\n",
       "      <td>White</td>\n",
       "      <td>Male</td>\n",
       "      <td>0</td>\n",
       "      <td>0</td>\n",
       "      <td>40</td>\n",
       "      <td>United-States</td>\n",
       "      <td>&gt;50K</td>\n",
       "    </tr>\n",
       "    <tr>\n",
       "      <th>32558</th>\n",
       "      <td>58</td>\n",
       "      <td>Private</td>\n",
       "      <td>151910</td>\n",
       "      <td>HS-grad</td>\n",
       "      <td>9</td>\n",
       "      <td>Widowed</td>\n",
       "      <td>Adm-clerical</td>\n",
       "      <td>Unmarried</td>\n",
       "      <td>White</td>\n",
       "      <td>Female</td>\n",
       "      <td>0</td>\n",
       "      <td>0</td>\n",
       "      <td>40</td>\n",
       "      <td>United-States</td>\n",
       "      <td>&lt;=50K</td>\n",
       "    </tr>\n",
       "    <tr>\n",
       "      <th>32559</th>\n",
       "      <td>22</td>\n",
       "      <td>Private</td>\n",
       "      <td>201490</td>\n",
       "      <td>HS-grad</td>\n",
       "      <td>9</td>\n",
       "      <td>Never-married</td>\n",
       "      <td>Adm-clerical</td>\n",
       "      <td>Own-child</td>\n",
       "      <td>White</td>\n",
       "      <td>Male</td>\n",
       "      <td>0</td>\n",
       "      <td>0</td>\n",
       "      <td>20</td>\n",
       "      <td>United-States</td>\n",
       "      <td>&lt;=50K</td>\n",
       "    </tr>\n",
       "    <tr>\n",
       "      <th>32560</th>\n",
       "      <td>52</td>\n",
       "      <td>Self-emp-inc</td>\n",
       "      <td>287927</td>\n",
       "      <td>HS-grad</td>\n",
       "      <td>9</td>\n",
       "      <td>Married-civ-spouse</td>\n",
       "      <td>Exec-managerial</td>\n",
       "      <td>Wife</td>\n",
       "      <td>White</td>\n",
       "      <td>Female</td>\n",
       "      <td>15024</td>\n",
       "      <td>0</td>\n",
       "      <td>40</td>\n",
       "      <td>United-States</td>\n",
       "      <td>&gt;50K</td>\n",
       "    </tr>\n",
       "  </tbody>\n",
       "</table>\n",
       "<p>32561 rows × 15 columns</p>\n",
       "</div>"
      ],
      "text/plain": [
       "       age         workclass  fnlwgt   education  education-num  \\\n",
       "0       39         State-gov   77516   Bachelors             13   \n",
       "1       50  Self-emp-not-inc   83311   Bachelors             13   \n",
       "2       38           Private  215646     HS-grad              9   \n",
       "3       53           Private  234721        11th              7   \n",
       "4       28           Private  338409   Bachelors             13   \n",
       "...    ...               ...     ...         ...            ...   \n",
       "32556   27           Private  257302  Assoc-acdm             12   \n",
       "32557   40           Private  154374     HS-grad              9   \n",
       "32558   58           Private  151910     HS-grad              9   \n",
       "32559   22           Private  201490     HS-grad              9   \n",
       "32560   52      Self-emp-inc  287927     HS-grad              9   \n",
       "\n",
       "           marital-status         occupation   relationship   race     sex  \\\n",
       "0           Never-married       Adm-clerical  Not-in-family  White    Male   \n",
       "1      Married-civ-spouse    Exec-managerial        Husband  White    Male   \n",
       "2                Divorced  Handlers-cleaners  Not-in-family  White    Male   \n",
       "3      Married-civ-spouse  Handlers-cleaners        Husband  Black    Male   \n",
       "4      Married-civ-spouse     Prof-specialty           Wife  Black  Female   \n",
       "...                   ...                ...            ...    ...     ...   \n",
       "32556  Married-civ-spouse       Tech-support           Wife  White  Female   \n",
       "32557  Married-civ-spouse  Machine-op-inspct        Husband  White    Male   \n",
       "32558             Widowed       Adm-clerical      Unmarried  White  Female   \n",
       "32559       Never-married       Adm-clerical      Own-child  White    Male   \n",
       "32560  Married-civ-spouse    Exec-managerial           Wife  White  Female   \n",
       "\n",
       "       capital-gain  capital-loss  hours-per-week native-country income  \n",
       "0              2174             0              40  United-States  <=50K  \n",
       "1                 0             0              13  United-States  <=50K  \n",
       "2                 0             0              40  United-States  <=50K  \n",
       "3                 0             0              40  United-States  <=50K  \n",
       "4                 0             0              40           Cuba  <=50K  \n",
       "...             ...           ...             ...            ...    ...  \n",
       "32556             0             0              38  United-States  <=50K  \n",
       "32557             0             0              40  United-States   >50K  \n",
       "32558             0             0              40  United-States  <=50K  \n",
       "32559             0             0              20  United-States  <=50K  \n",
       "32560         15024             0              40  United-States   >50K  \n",
       "\n",
       "[32561 rows x 15 columns]"
      ]
     },
     "execution_count": 481,
     "metadata": {},
     "output_type": "execute_result"
    }
   ],
   "source": [
    "adults"
   ]
  },
  {
   "cell_type": "markdown",
   "id": "9328fe1d",
   "metadata": {},
   "source": [
    "### Just using what we have."
   ]
  },
  {
   "cell_type": "code",
   "execution_count": 486,
   "id": "3ec4a317",
   "metadata": {},
   "outputs": [],
   "source": [
    "values = adults[['education-num','hours-per-week']].values\n",
    "labels = adults['income'].values"
   ]
  },
  {
   "cell_type": "code",
   "execution_count": 487,
   "id": "ddbc77e8",
   "metadata": {},
   "outputs": [
    {
     "data": {
      "text/plain": [
       "array([[13, 40],\n",
       "       [13, 13],\n",
       "       [ 9, 40],\n",
       "       ...,\n",
       "       [ 9, 40],\n",
       "       [ 9, 20],\n",
       "       [ 9, 40]], dtype=int64)"
      ]
     },
     "execution_count": 487,
     "metadata": {},
     "output_type": "execute_result"
    }
   ],
   "source": [
    "values"
   ]
  },
  {
   "cell_type": "code",
   "execution_count": 488,
   "id": "f16ed1cb",
   "metadata": {},
   "outputs": [],
   "source": [
    "knn = K_Nearest_Neighbors()"
   ]
  },
  {
   "cell_type": "markdown",
   "id": "4791776f",
   "metadata": {},
   "source": [
    "### This was taking forever since we have so much data, or something is not working properly, probably the amount of data."
   ]
  },
  {
   "cell_type": "code",
   "execution_count": 489,
   "id": "3f8d3fbe",
   "metadata": {},
   "outputs": [
    {
     "name": "stderr",
     "output_type": "stream",
     "text": [
      "  0%|                                                                                            | 0/5 [02:03<?, ?it/s]\n"
     ]
    },
    {
     "ename": "KeyboardInterrupt",
     "evalue": "",
     "output_type": "error",
     "traceback": [
      "\u001b[1;31m---------------------------------------------------------------------------\u001b[0m",
      "\u001b[1;31mKeyboardInterrupt\u001b[0m                         Traceback (most recent call last)",
      "\u001b[1;32m<ipython-input-489-19aa51c17e38>\u001b[0m in \u001b[0;36m<module>\u001b[1;34m\u001b[0m\n\u001b[0;32m     24\u001b[0m     \u001b[0mcorrect\u001b[0m \u001b[1;33m=\u001b[0m \u001b[1;36m0\u001b[0m\u001b[1;33m\u001b[0m\u001b[1;33m\u001b[0m\u001b[0m\n\u001b[0;32m     25\u001b[0m     \u001b[1;32mfor\u001b[0m \u001b[0mi\u001b[0m \u001b[1;32min\u001b[0m \u001b[0mrange\u001b[0m\u001b[1;33m(\u001b[0m\u001b[0mlen\u001b[0m\u001b[1;33m(\u001b[0m\u001b[0mtest_values\u001b[0m\u001b[1;33m)\u001b[0m\u001b[1;33m)\u001b[0m\u001b[1;33m:\u001b[0m\u001b[1;33m\u001b[0m\u001b[1;33m\u001b[0m\u001b[0m\n\u001b[1;32m---> 26\u001b[1;33m         \u001b[0mprediction\u001b[0m \u001b[1;33m=\u001b[0m \u001b[0mknn\u001b[0m\u001b[1;33m.\u001b[0m\u001b[0mpredict\u001b[0m\u001b[1;33m(\u001b[0m\u001b[0mtest_values\u001b[0m\u001b[1;33m[\u001b[0m\u001b[0mi\u001b[0m\u001b[1;33m]\u001b[0m\u001b[1;33m)\u001b[0m\u001b[1;33m\u001b[0m\u001b[1;33m\u001b[0m\u001b[0m\n\u001b[0m\u001b[0;32m     27\u001b[0m         \u001b[1;32mif\u001b[0m \u001b[1;33m(\u001b[0m\u001b[0mprediction\u001b[0m \u001b[1;32mis\u001b[0m \u001b[0mtest_labels\u001b[0m\u001b[1;33m[\u001b[0m\u001b[0mi\u001b[0m\u001b[1;33m]\u001b[0m\u001b[1;33m)\u001b[0m\u001b[1;33m:\u001b[0m\u001b[1;33m\u001b[0m\u001b[1;33m\u001b[0m\u001b[0m\n\u001b[0;32m     28\u001b[0m             \u001b[0mcorrect\u001b[0m \u001b[1;33m+=\u001b[0m \u001b[1;36m1\u001b[0m\u001b[1;33m\u001b[0m\u001b[1;33m\u001b[0m\u001b[0m\n",
      "\u001b[1;32m<ipython-input-462-e2dd3cdf6946>\u001b[0m in \u001b[0;36mpredict\u001b[1;34m(self, test_value)\u001b[0m\n\u001b[0;32m     24\u001b[0m \u001b[1;33m\u001b[0m\u001b[0m\n\u001b[0;32m     25\u001b[0m         \u001b[1;32mfor\u001b[0m \u001b[0mi\u001b[0m \u001b[1;32min\u001b[0m \u001b[0mrange\u001b[0m\u001b[1;33m(\u001b[0m\u001b[0mlen\u001b[0m\u001b[1;33m(\u001b[0m\u001b[0mself\u001b[0m\u001b[1;33m.\u001b[0m\u001b[0mvalues\u001b[0m\u001b[1;33m)\u001b[0m\u001b[1;33m)\u001b[0m\u001b[1;33m:\u001b[0m\u001b[1;33m\u001b[0m\u001b[1;33m\u001b[0m\u001b[0m\n\u001b[1;32m---> 26\u001b[1;33m             \u001b[0mnorms\u001b[0m\u001b[1;33m.\u001b[0m\u001b[0mappend\u001b[0m\u001b[1;33m(\u001b[0m\u001b[1;33m[\u001b[0m\u001b[0mla\u001b[0m\u001b[1;33m.\u001b[0m\u001b[0mnorm\u001b[0m\u001b[1;33m(\u001b[0m\u001b[0mself\u001b[0m\u001b[1;33m.\u001b[0m\u001b[0mvalues\u001b[0m\u001b[1;33m[\u001b[0m\u001b[0mi\u001b[0m\u001b[1;33m]\u001b[0m \u001b[1;33m-\u001b[0m \u001b[0mtest_value\u001b[0m\u001b[1;33m)\u001b[0m\u001b[1;33m,\u001b[0m \u001b[0mself\u001b[0m\u001b[1;33m.\u001b[0m\u001b[0mlabels\u001b[0m\u001b[1;33m[\u001b[0m\u001b[0mi\u001b[0m\u001b[1;33m]\u001b[0m\u001b[1;33m]\u001b[0m\u001b[1;33m)\u001b[0m \u001b[1;31m#keep track of actual class\u001b[0m\u001b[1;33m\u001b[0m\u001b[1;33m\u001b[0m\u001b[0m\n\u001b[0m\u001b[0;32m     27\u001b[0m \u001b[1;33m\u001b[0m\u001b[0m\n\u001b[0;32m     28\u001b[0m         \u001b[1;32mfor\u001b[0m \u001b[0mi\u001b[0m \u001b[1;32min\u001b[0m \u001b[0mrange\u001b[0m\u001b[1;33m(\u001b[0m\u001b[0mself\u001b[0m\u001b[1;33m.\u001b[0m\u001b[0mk\u001b[0m\u001b[1;33m)\u001b[0m\u001b[1;33m:\u001b[0m\u001b[1;33m\u001b[0m\u001b[1;33m\u001b[0m\u001b[0m\n",
      "\u001b[1;32m<__array_function__ internals>\u001b[0m in \u001b[0;36mnorm\u001b[1;34m(*args, **kwargs)\u001b[0m\n",
      "\u001b[1;32m~\\anaconda3\\lib\\site-packages\\numpy\\linalg\\linalg.py\u001b[0m in \u001b[0;36mnorm\u001b[1;34m(x, ord, axis, keepdims)\u001b[0m\n\u001b[0;32m   2527\u001b[0m                 \u001b[0msqnorm\u001b[0m \u001b[1;33m=\u001b[0m \u001b[0mdot\u001b[0m\u001b[1;33m(\u001b[0m\u001b[0mx\u001b[0m\u001b[1;33m.\u001b[0m\u001b[0mreal\u001b[0m\u001b[1;33m,\u001b[0m \u001b[0mx\u001b[0m\u001b[1;33m.\u001b[0m\u001b[0mreal\u001b[0m\u001b[1;33m)\u001b[0m \u001b[1;33m+\u001b[0m \u001b[0mdot\u001b[0m\u001b[1;33m(\u001b[0m\u001b[0mx\u001b[0m\u001b[1;33m.\u001b[0m\u001b[0mimag\u001b[0m\u001b[1;33m,\u001b[0m \u001b[0mx\u001b[0m\u001b[1;33m.\u001b[0m\u001b[0mimag\u001b[0m\u001b[1;33m)\u001b[0m\u001b[1;33m\u001b[0m\u001b[1;33m\u001b[0m\u001b[0m\n\u001b[0;32m   2528\u001b[0m             \u001b[1;32melse\u001b[0m\u001b[1;33m:\u001b[0m\u001b[1;33m\u001b[0m\u001b[1;33m\u001b[0m\u001b[0m\n\u001b[1;32m-> 2529\u001b[1;33m                 \u001b[0msqnorm\u001b[0m \u001b[1;33m=\u001b[0m \u001b[0mdot\u001b[0m\u001b[1;33m(\u001b[0m\u001b[0mx\u001b[0m\u001b[1;33m,\u001b[0m \u001b[0mx\u001b[0m\u001b[1;33m)\u001b[0m\u001b[1;33m\u001b[0m\u001b[1;33m\u001b[0m\u001b[0m\n\u001b[0m\u001b[0;32m   2530\u001b[0m             \u001b[0mret\u001b[0m \u001b[1;33m=\u001b[0m \u001b[0msqrt\u001b[0m\u001b[1;33m(\u001b[0m\u001b[0msqnorm\u001b[0m\u001b[1;33m)\u001b[0m\u001b[1;33m\u001b[0m\u001b[1;33m\u001b[0m\u001b[0m\n\u001b[0;32m   2531\u001b[0m             \u001b[1;32mif\u001b[0m \u001b[0mkeepdims\u001b[0m\u001b[1;33m:\u001b[0m\u001b[1;33m\u001b[0m\u001b[1;33m\u001b[0m\u001b[0m\n",
      "\u001b[1;32m<__array_function__ internals>\u001b[0m in \u001b[0;36mdot\u001b[1;34m(*args, **kwargs)\u001b[0m\n",
      "\u001b[1;31mKeyboardInterrupt\u001b[0m: "
     ]
    }
   ],
   "source": [
    "for i in tqdm(range(5)):\n",
    "    p = .8 #set p here\n",
    "    data = []\n",
    "    for i in range(len(values)):\n",
    "        data.append([values[i],labels[i]])\n",
    "    \n",
    "    train_set, test_set = split_data(data, p)\n",
    "\n",
    "    train_values = []\n",
    "    train_labels = []\n",
    "    for i in range(len(train_set)):\n",
    "        train_values.append(train_set[i][0])\n",
    "        train_labels.append(train_set[i][1])\n",
    "    \n",
    "    test_values = []\n",
    "    test_labels = []\n",
    "    for i in range(len(test_set)):\n",
    "        test_values.append(test_set[i][0])\n",
    "        test_labels.append(test_set[i][1])\n",
    "\n",
    "    knn.train(train_values, train_labels)\n",
    "    \n",
    "    errors = 0\n",
    "    correct = 0\n",
    "    for i in range(len(test_values)):\n",
    "        prediction = knn.predict(test_values[i])\n",
    "        if (prediction is test_labels[i]):\n",
    "            correct += 1\n",
    "        else:\n",
    "            errors += 1\n",
    "    print(f\"Train = {p*100}%, Test = {(1-p)*100}, Correct = {correct}, Errors = {errors}, Accuracy = {correct/(correct+errors)*100}%\")\n",
    "    print('\\n')"
   ]
  },
  {
   "cell_type": "markdown",
   "id": "6165d638",
   "metadata": {},
   "source": [
    "I want to try my other idea but honestly I'm just so tired of school work and need a break. Happy Thanksgiving!"
   ]
  },
  {
   "cell_type": "code",
   "execution_count": null,
   "id": "f12a0a8d",
   "metadata": {},
   "outputs": [],
   "source": []
  }
 ],
 "metadata": {
  "kernelspec": {
   "display_name": "Python 3",
   "language": "python",
   "name": "python3"
  },
  "language_info": {
   "codemirror_mode": {
    "name": "ipython",
    "version": 3
   },
   "file_extension": ".py",
   "mimetype": "text/x-python",
   "name": "python",
   "nbconvert_exporter": "python",
   "pygments_lexer": "ipython3",
   "version": "3.8.8"
  }
 },
 "nbformat": 4,
 "nbformat_minor": 5
}
